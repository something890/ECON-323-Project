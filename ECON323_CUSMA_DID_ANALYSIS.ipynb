{
 "cells": [
  {
   "cell_type": "markdown",
   "id": "5545f345-635e-4ca1-9910-46c0f85d919d",
   "metadata": {},
   "source": [
    "# Difference-in-Difference Analysis to measure FTA impacts between NAFTA and CUSMA on the Dairy Industry\n",
    "\n",
    "### Ho Cheng An | Aya Darwash | Bhavya Dubey | Arya Leong"
   ]
  },
  {
   "cell_type": "markdown",
   "id": "3c9fd94d-52be-4af9-bf77-0795e3fb24b8",
   "metadata": {},
   "source": [
    "## Introduction:\n",
    "Free trade agreements are meant to foster greater exchange of goods and services between nations with little to no government tariffs, quotas, subsidies or prohibitions. This is meant to foster greater economic prosperity for both countries however, in the case of the renegotiation of NAFTA to CUSMA, it ended up causing more harm to certain Canadian industries than good. The question that guides our research is to what extent did the changes in policy from NAFTA to CUSMA impact the dairy industry? Our aim is to look at the negative and positive impacts on this industry using difference-in-difference analysis of the dairy and grain industry, 10 years under NAFTA and 4 years under CUSMA."
   ]
  },
  {
   "cell_type": "markdown",
   "id": "2d3ff547-f7e4-45c8-b1a6-ea7f75439714",
   "metadata": {},
   "source": [
    "## Background:\n",
    "\n",
    "North American Free Trade Agreement (NAFTA) was first drafted and signed in 1994 by Canada, Mexico and the US in an effort to create a North American free trade zone. It resulted in the elimination and reduction of barriers to trade and investment between the three nations, having an overall positive effect on the Northern American economies. After Trump look office in 2017, he sought to replace NAFTA with a new agreement which was named the Canada-United States-Mexico Agreement (CUSMA) which gained greater concessions in Canada markets, particularly that of dairy and poultry products, raising the threshold for tax and duty-free entry into Canada and Mexico of low-value goods imports, and easing other barriers to service trades, and most importantly created more stringent rules of origin for products to qualify for duty-free market access which adversely impacted the automotive sector (Xiao, 2020). Overall CUSMA compared to NAFTA resulted in lower real GDP and welfare for all three parties, with Canada’s GDP shrinking to by 0.4% and economic welfare falling over US$10 billion (Xiao, 2020).\n",
    "\n",
    "The dairy market is one of those industries that Canada sought to protect. Imports of dairy are controlled via tariff-rate-quotas (TRQ’s) and over-quota ad valorem (percentage) tariffs, at levels that are prohibitive to imports in excess of TRQ. They also used to have subsidized exports of dairy which was abolished in 2021 through the Nairobi Declaration. The significant changes made to the dairy industry from NAFTA to CUSMA are as follows:\n",
    "\n",
    "Elimination of milk Class 6, and Class 7 within 6 months of the agreement.\n",
    "Export constraints on skim milk powder and milk protein concentrates, and infant formula.\n",
    "Phase-out of supply management through elimination of supply control/quotas in dairy, poultry and eggs within 10 years.\n",
    "\n",
    "Increased dairy market access of 5% per year, leading to open access for the US within 10 years.\n",
    "Canada’s milk prices at the farm are higher than those in the US, making it difficult to be price-competitive with US products in the US market. In a paper by Biden, Ker, and Duff (2020) they found that there was a 1.4% decrease in the marginal retail price, a 4.8% decrease in blended producer price, and an overall increase in social welfare of 7.8%. The elimination of Class 7 within the CUSMA resulted in a price increase for Canadian producers with respect to the product in Class 7. Ciuriak, Dadkhah, and Xiao (2023) measure the sectoral impacts by reporting on the net bilateral exports and imports within the first year of CUSMA, indicating dairy market displacement and unequal imports and exports. Our paper will focus on the effect of the increased dairy market access through expanding tariff-rate quotas in Canada."
   ]
  },
  {
   "cell_type": "markdown",
   "id": "d47f7041-2386-4fa4-aaf8-be922d4b7edd",
   "metadata": {
    "tags": []
   },
   "source": [
    "## Data Description, Dataset, and Variables\n",
    "\n",
    "#### Trade Balance: \n",
    "Measured by net imports and exports of all dairy products over the period. This data is sourced from Agriculture Canada and serves as our primary dependent variable to measure the impact of increased market access.\n",
    "#### Inflation: \n",
    "Measured by CPI-common that tracks common price changes across categories in the CPI basket. This data is sourced from the Bank of Canada and is a control variable in our analysis.\n",
    "#### Exchange Rates: \n",
    "Measured by adjusted close and percentage change. This data is sourced from the daily updated Yahoo finance and is to be a control variable in our analysis.\n",
    "#### Foreign Currency Reserves: \n",
    "Measured by the total of Canada’s official international reserves on a monthly frequency between 2010 to 2023. The data is sourced from Statistics Canada and will be a control variable in our analysis.\n",
    "#### Foreign Direct Investment: \n",
    "Measured by the balance of international payments in the total current account. The data is sourced from Statistics Canada and will be a control variable in our analysis.\n",
    "#### Market Cap/Quotas: \n",
    "Measured by the industry revenue of Dairy product manufacturing and industry revenue of Grain product manufacturing. The first variable was sourced from Statista, and the second variable was constructed with the use of total grain yield and average prices from Statistics Canada and Trading Economics.\n",
    "#### Population: \n",
    "Measured by total annual population numbers between 2010 to 2023. Sourced from Statistics Canada and will be a control variable in our analysis."
   ]
  },
  {
   "cell_type": "code",
   "execution_count": 2,
   "id": "7fe70d07-c2a9-427f-9fe0-41e2c78264aa",
   "metadata": {
    "tags": []
   },
   "outputs": [
    {
     "name": "stdout",
     "output_type": "stream",
     "text": [
      "\u001b[31mERROR: Could not find a version that satisfies the requirement statsmodel (from versions: none)\u001b[0m\u001b[31m\n",
      "\u001b[0m\u001b[31mERROR: No matching distribution found for statsmodel\u001b[0m\u001b[31m\n",
      "\u001b[0m"
     ]
    }
   ],
   "source": [
    "!pip install statsmodel"
   ]
  },
  {
   "cell_type": "code",
   "execution_count": 3,
   "id": "97634ba0-ade1-4d7e-af42-ec1f34a5fd5b",
   "metadata": {
    "tags": []
   },
   "outputs": [],
   "source": [
    "import pandas as pd\n",
    "import numpy as np\n",
    "import csv\n",
    "from zipfile import ZipFile\n",
    "import io\n",
    "import requests\n",
    "import re\n",
    "import matplotlib.pyplot as plt"
   ]
  },
  {
   "cell_type": "markdown",
   "id": "e6f8df07-4b7d-4cd1-9058-1a29bda7efec",
   "metadata": {},
   "source": [
    "### Inflation"
   ]
  },
  {
   "cell_type": "code",
   "execution_count": 7,
   "id": "c6c48e32-a4e0-42eb-be89-6fc2fa54b51f",
   "metadata": {
    "tags": []
   },
   "outputs": [
    {
     "name": "stderr",
     "output_type": "stream",
     "text": [
      "/tmp/ipykernel_237/2453808395.py:29: SettingWithCopyWarning: \n",
      "A value is trying to be set on a copy of a slice from a DataFrame.\n",
      "Try using .loc[row_indexer,col_indexer] = value instead\n",
      "\n",
      "See the caveats in the documentation: https://pandas.pydata.org/pandas-docs/stable/user_guide/indexing.html#returning-a-view-versus-a-copy\n",
      "  filtered_inflation.loc[:,'Year']=pd.to_datetime(filtered_inflation['Year'].str.replace('Q4', ''),format='%Y').dt.year\n",
      "/tmp/ipykernel_237/2453808395.py:29: DeprecationWarning: In a future version, `df.iloc[:, i] = newvals` will attempt to set the values inplace instead of always setting a new array. To retain the old behavior, use either `df[df.columns[i]] = newvals` or, if columns are non-unique, `df.isetitem(i, newvals)`\n",
      "  filtered_inflation.loc[:,'Year']=pd.to_datetime(filtered_inflation['Year'].str.replace('Q4', ''),format='%Y').dt.year\n"
     ]
    },
    {
     "data": {
      "text/html": [
       "<div>\n",
       "<style scoped>\n",
       "    .dataframe tbody tr th:only-of-type {\n",
       "        vertical-align: middle;\n",
       "    }\n",
       "\n",
       "    .dataframe tbody tr th {\n",
       "        vertical-align: top;\n",
       "    }\n",
       "\n",
       "    .dataframe thead th {\n",
       "        text-align: right;\n",
       "    }\n",
       "</style>\n",
       "<table border=\"1\" class=\"dataframe\">\n",
       "  <thead>\n",
       "    <tr style=\"text-align: right;\">\n",
       "      <th></th>\n",
       "      <th>Inflation (CPI)</th>\n",
       "    </tr>\n",
       "    <tr>\n",
       "      <th>Year</th>\n",
       "      <th></th>\n",
       "    </tr>\n",
       "  </thead>\n",
       "  <tbody>\n",
       "    <tr>\n",
       "      <th>2010</th>\n",
       "      <td>1.1</td>\n",
       "    </tr>\n",
       "    <tr>\n",
       "      <th>2011</th>\n",
       "      <td>2.0</td>\n",
       "    </tr>\n",
       "    <tr>\n",
       "      <th>2012</th>\n",
       "      <td>1.6</td>\n",
       "    </tr>\n",
       "    <tr>\n",
       "      <th>2013</th>\n",
       "      <td>1.1</td>\n",
       "    </tr>\n",
       "    <tr>\n",
       "      <th>2014</th>\n",
       "      <td>1.7</td>\n",
       "    </tr>\n",
       "  </tbody>\n",
       "</table>\n",
       "</div>"
      ],
      "text/plain": [
       "      Inflation (CPI)\n",
       "Year                 \n",
       "2010              1.1\n",
       "2011              2.0\n",
       "2012              1.6\n",
       "2013              1.1\n",
       "2014              1.7"
      ]
     },
     "execution_count": 7,
     "metadata": {},
     "output_type": "execute_result"
    }
   ],
   "source": [
    "#defining the file_path\n",
    "file_path = 'Datasets_ECON323/Inflation.csv'\n",
    "\n",
    "# Read in the dataset \n",
    "inflation = pd.read_csv(file_path)\n",
    "\n",
    "#drop columns \n",
    "columns_to_drop = ['INDINF_CPI_TRIM_Q', 'INDINF_CPI_MEDIAN_Q', 'INDINF_CPI_Q']\n",
    "inflation.drop(columns=columns_to_drop, inplace=True)\n",
    "\n",
    "#drop observations by index\n",
    "rows_to_drop = inflation.iloc[0:68]\n",
    "inflation.drop(index=rows_to_drop.index, inplace=True)\n",
    "\n",
    "# Rename a single column\n",
    "inflation.rename(columns={'INDINF_CPI_COMMON_Q': 'Inflation (CPI)', 'date':'Year'}, inplace=True)\n",
    "\n",
    "#need to drop Q1-3 data and retain Q4 data using Boolean indexing    \n",
    "\n",
    "# Create a boolean mask\n",
    "mask = (np.arange(len(inflation)) - 3) % 4 == 0\n",
    "\n",
    "# Apply the mask to keep every 4th row starting from the second\n",
    "filtered_inflation = inflation[mask]\n",
    "\n",
    "\n",
    "#need to remove \"Q4\" and turn the data column into a time object \n",
    "#filtered_inflation.loc[:, 'Year'] = filtered_inflation['Year'].str.replace('Q4', '')\n",
    "filtered_inflation.loc[:,'Year']=pd.to_datetime(filtered_inflation['Year'].str.replace('Q4', ''),format='%Y').dt.year\n",
    "filtered_inflation = filtered_inflation.set_index('Year')\n",
    "\n",
    "filtered_inflation.head()"
   ]
  },
  {
   "cell_type": "markdown",
   "id": "05d23870-f85e-4ff0-9256-5c356403235a",
   "metadata": {},
   "source": [
    "### Foreign Currency Reserves "
   ]
  },
  {
   "cell_type": "code",
   "execution_count": 9,
   "id": "3d43eaac-fb84-4808-9a68-0e57e14a7ae7",
   "metadata": {
    "tags": []
   },
   "outputs": [
    {
     "name": "stderr",
     "output_type": "stream",
     "text": [
      "/tmp/ipykernel_237/3510702395.py:21: SettingWithCopyWarning: \n",
      "A value is trying to be set on a copy of a slice from a DataFrame.\n",
      "Try using .loc[row_indexer,col_indexer] = value instead\n",
      "\n",
      "See the caveats in the documentation: https://pandas.pydata.org/pandas-docs/stable/user_guide/indexing.html#returning-a-view-versus-a-copy\n",
      "  filtered_FCR.loc[:,'REF_DATE']=pd.to_datetime(filtered_FCR['REF_DATE']).dt.year\n",
      "/tmp/ipykernel_237/3510702395.py:21: DeprecationWarning: In a future version, `df.iloc[:, i] = newvals` will attempt to set the values inplace instead of always setting a new array. To retain the old behavior, use either `df[df.columns[i]] = newvals` or, if columns are non-unique, `df.isetitem(i, newvals)`\n",
      "  filtered_FCR.loc[:,'REF_DATE']=pd.to_datetime(filtered_FCR['REF_DATE']).dt.year\n"
     ]
    },
    {
     "data": {
      "text/html": [
       "<div>\n",
       "<style scoped>\n",
       "    .dataframe tbody tr th:only-of-type {\n",
       "        vertical-align: middle;\n",
       "    }\n",
       "\n",
       "    .dataframe tbody tr th {\n",
       "        vertical-align: top;\n",
       "    }\n",
       "\n",
       "    .dataframe thead th {\n",
       "        text-align: right;\n",
       "    }\n",
       "</style>\n",
       "<table border=\"1\" class=\"dataframe\">\n",
       "  <thead>\n",
       "    <tr style=\"text-align: right;\">\n",
       "      <th></th>\n",
       "      <th>CAN Official International Reserves</th>\n",
       "    </tr>\n",
       "    <tr>\n",
       "      <th>Year</th>\n",
       "      <th></th>\n",
       "    </tr>\n",
       "  </thead>\n",
       "  <tbody>\n",
       "    <tr>\n",
       "      <th>2010</th>\n",
       "      <td>57151</td>\n",
       "    </tr>\n",
       "    <tr>\n",
       "      <th>2011</th>\n",
       "      <td>65819</td>\n",
       "    </tr>\n",
       "    <tr>\n",
       "      <th>2012</th>\n",
       "      <td>68546</td>\n",
       "    </tr>\n",
       "    <tr>\n",
       "      <th>2013</th>\n",
       "      <td>71937</td>\n",
       "    </tr>\n",
       "    <tr>\n",
       "      <th>2014</th>\n",
       "      <td>74700</td>\n",
       "    </tr>\n",
       "  </tbody>\n",
       "</table>\n",
       "</div>"
      ],
      "text/plain": [
       "      CAN Official International Reserves\n",
       "Year                                     \n",
       "2010                                57151\n",
       "2011                                65819\n",
       "2012                                68546\n",
       "2013                                71937\n",
       "2014                                74700"
      ]
     },
     "execution_count": 9,
     "metadata": {},
     "output_type": "execute_result"
    }
   ],
   "source": [
    "#defining the file_path\n",
    "\n",
    "file_path = 'Datasets_ECON323/Foreign_Currency_Reserves.csv'\n",
    "\n",
    "#read in the dataset\n",
    "FCR = pd.read_csv(file_path) \n",
    "\n",
    "#drop irrelevant columns\n",
    "columns_to_drop_FCR = ['Type of reserve', 'GEO', 'UOM','DGUID', 'UOM_ID', 'SCALAR_FACTOR', 'SCALAR_ID','VECTOR', 'COORDINATE','STATUS', 'TERMINATED', 'DECIMALS', 'SYMBOL'] \n",
    "FCR.drop(columns = columns_to_drop_FCR, inplace = True) \n",
    "\n",
    "#dropping the observations with variables that are not of interest using indexes\n",
    "FCR.drop(index=range(159, 973), inplace=True)\n",
    "\n",
    "#filter to keep the last month of each year using Boolean indexing \n",
    "mask = (np.arange(len(FCR)) - 14) % 12 == 0\n",
    "\n",
    "# Apply the mask to keep every 12th row starting from the second\n",
    "filtered_FCR = FCR[mask]\n",
    "\n",
    "filtered_FCR.loc[:,'REF_DATE']=pd.to_datetime(filtered_FCR['REF_DATE']).dt.year\n",
    "filtered_FCR = filtered_FCR.rename(columns={'REF_DATE':'Year','VALUE':'CAN Official International Reserves'})\n",
    "filtered_FCR = filtered_FCR.set_index('Year')\n",
    "\n",
    "filtered_FCR.head()"
   ]
  },
  {
   "cell_type": "markdown",
   "id": "ec928cf4-615e-4550-8ae1-a38393f069d7",
   "metadata": {},
   "source": [
    "### Foreign Direct Investment"
   ]
  },
  {
   "cell_type": "code",
   "execution_count": 10,
   "id": "f9f67e21-65c5-4486-a572-a0b0dcedecf4",
   "metadata": {
    "tags": []
   },
   "outputs": [
    {
     "data": {
      "text/html": [
       "<div>\n",
       "<style scoped>\n",
       "    .dataframe tbody tr th:only-of-type {\n",
       "        vertical-align: middle;\n",
       "    }\n",
       "\n",
       "    .dataframe tbody tr th {\n",
       "        vertical-align: top;\n",
       "    }\n",
       "\n",
       "    .dataframe thead th {\n",
       "        text-align: right;\n",
       "    }\n",
       "</style>\n",
       "<table border=\"1\" class=\"dataframe\">\n",
       "  <thead>\n",
       "    <tr style=\"text-align: right;\">\n",
       "      <th></th>\n",
       "      <th>FDI Balances</th>\n",
       "    </tr>\n",
       "    <tr>\n",
       "      <th>Year</th>\n",
       "      <th></th>\n",
       "    </tr>\n",
       "  </thead>\n",
       "  <tbody>\n",
       "    <tr>\n",
       "      <th>2010</th>\n",
       "      <td>-59351</td>\n",
       "    </tr>\n",
       "    <tr>\n",
       "      <th>2011</th>\n",
       "      <td>-48112</td>\n",
       "    </tr>\n",
       "    <tr>\n",
       "      <th>2012</th>\n",
       "      <td>-64579</td>\n",
       "    </tr>\n",
       "    <tr>\n",
       "      <th>2013</th>\n",
       "      <td>-59759</td>\n",
       "    </tr>\n",
       "    <tr>\n",
       "      <th>2014</th>\n",
       "      <td>-46278</td>\n",
       "    </tr>\n",
       "  </tbody>\n",
       "</table>\n",
       "</div>"
      ],
      "text/plain": [
       "      FDI Balances\n",
       "Year              \n",
       "2010        -59351\n",
       "2011        -48112\n",
       "2012        -64579\n",
       "2013        -59759\n",
       "2014        -46278"
      ]
     },
     "execution_count": 10,
     "metadata": {},
     "output_type": "execute_result"
    }
   ],
   "source": [
    "#defining the file_path\n",
    "file_path = \"Datasets_ECON323/FDI.csv\"\n",
    "\n",
    "#read in the dataset\n",
    "FDI = pd.read_csv(file_path)\n",
    "\n",
    "#drop irrelevant columns \n",
    "columns_to_drop_FDI = ['GEO', 'UOM','DGUID', 'UOM_ID', 'SCALAR_FACTOR', 'SCALAR_ID','VECTOR',\n",
    "                       'COORDINATE','STATUS', 'TERMINATED', 'DECIMALS', 'SYMBOL',\n",
    "                       'Current account and capital account', 'Countries or regions','Receipts, payments and balances']\n",
    "FDI.drop(columns = columns_to_drop_FDI, inplace = True)\n",
    "\n",
    "#dropping the observations with variables that are not of interest using indexes\n",
    "FDI.drop(index=range(0, 392), inplace=True)\n",
    "FDI.drop(index=range(406, 588), inplace=True)\n",
    "\n",
    "#print to check\n",
    "\n",
    "FDI.loc[:,'REF_DATE']=pd.to_datetime(FDI['REF_DATE'],format='%Y').dt.year\n",
    "FDI = FDI.rename(columns={'REF_DATE':'Year','VALUE':'FDI Balances'})\n",
    "FDI = FDI.set_index('Year')\n",
    "\n",
    "FDI.head()"
   ]
  },
  {
   "cell_type": "code",
   "execution_count": 11,
   "id": "3474c560-1e3f-415b-a0fb-f33821c540cc",
   "metadata": {
    "tags": []
   },
   "outputs": [],
   "source": [
    "#filtered_FCR\n",
    "#FDI\n",
    "#filtered_inflation.head()"
   ]
  },
  {
   "cell_type": "markdown",
   "id": "d91cc9fc-5b14-487c-b11d-a3dae587fb62",
   "metadata": {},
   "source": [
    "### Dairy Industry Supply"
   ]
  },
  {
   "cell_type": "code",
   "execution_count": 12,
   "id": "db8777e4-179f-4bb7-8a0f-889db41f97c9",
   "metadata": {
    "tags": []
   },
   "outputs": [],
   "source": [
    "file_path = \"Datasets_ECON323/dairysupply.csv\"\n",
    "df = pd.read_csv(file_path, parse_dates=[\"REF_DATE\"])"
   ]
  },
  {
   "cell_type": "code",
   "execution_count": 14,
   "id": "3ab0752c-b2c7-4d31-99d7-8b96b77f27cf",
   "metadata": {
    "tags": []
   },
   "outputs": [
    {
     "data": {
      "text/html": [
       "<div>\n",
       "<style scoped>\n",
       "    .dataframe tbody tr th:only-of-type {\n",
       "        vertical-align: middle;\n",
       "    }\n",
       "\n",
       "    .dataframe tbody tr th {\n",
       "        vertical-align: top;\n",
       "    }\n",
       "\n",
       "    .dataframe thead th {\n",
       "        text-align: right;\n",
       "    }\n",
       "</style>\n",
       "<table border=\"1\" class=\"dataframe\">\n",
       "  <thead>\n",
       "    <tr style=\"text-align: right;\">\n",
       "      <th>Category</th>\n",
       "      <th>Total Dairy Exports</th>\n",
       "      <th>Total Dairy Imports</th>\n",
       "      <th>Total Dairy Supply</th>\n",
       "    </tr>\n",
       "    <tr>\n",
       "      <th>Year</th>\n",
       "      <th></th>\n",
       "      <th></th>\n",
       "      <th></th>\n",
       "    </tr>\n",
       "  </thead>\n",
       "  <tbody>\n",
       "    <tr>\n",
       "      <th>2010</th>\n",
       "      <td>16375.0</td>\n",
       "      <td>32548.0</td>\n",
       "      <td>2105430.0</td>\n",
       "    </tr>\n",
       "    <tr>\n",
       "      <th>2011</th>\n",
       "      <td>19626.0</td>\n",
       "      <td>38004.0</td>\n",
       "      <td>1996011.0</td>\n",
       "    </tr>\n",
       "    <tr>\n",
       "      <th>2012</th>\n",
       "      <td>22537.0</td>\n",
       "      <td>36888.0</td>\n",
       "      <td>2114434.0</td>\n",
       "    </tr>\n",
       "    <tr>\n",
       "      <th>2013</th>\n",
       "      <td>28473.0</td>\n",
       "      <td>35780.0</td>\n",
       "      <td>2247301.0</td>\n",
       "    </tr>\n",
       "    <tr>\n",
       "      <th>2014</th>\n",
       "      <td>24758.0</td>\n",
       "      <td>41506.0</td>\n",
       "      <td>2137260.0</td>\n",
       "    </tr>\n",
       "  </tbody>\n",
       "</table>\n",
       "</div>"
      ],
      "text/plain": [
       "Category  Total Dairy Exports  Total Dairy Imports  Total Dairy Supply\n",
       "Year                                                                  \n",
       "2010                  16375.0              32548.0           2105430.0\n",
       "2011                  19626.0              38004.0           1996011.0\n",
       "2012                  22537.0              36888.0           2114434.0\n",
       "2013                  28473.0              35780.0           2247301.0\n",
       "2014                  24758.0              41506.0           2137260.0"
      ]
     },
     "execution_count": 14,
     "metadata": {},
     "output_type": "execute_result"
    }
   ],
   "source": [
    "#\n",
    "df_yearly = df.groupby([df['Supply and disposition'], df['REF_DATE'].dt.year])['VALUE'].sum().reset_index() #sum commodities\n",
    "df_yearly = df_yearly.rename(columns={\"Supply and disposition\": \"Category\", \"REF_DATE\": \"Year\", \"VALUE\":\"Value\"}) #rename col\n",
    "df_yearly['Category']=df_yearly['Category'].replace('Supply, total', 'Total Dairy Supply') #rename values\n",
    "df_yearly = df_yearly.set_index('Year') #index by year\n",
    "\n",
    "dairy_ind = df_yearly.pivot_table(\n",
    "    index='Year',\n",
    "    columns='Category',\n",
    "    values='Value'\n",
    ")\n",
    "dairy_ind = dairy_ind.rename(columns={'Exports':'Total Dairy Exports','Imports':'Total Dairy Imports'})\n",
    "dairy_ind.head()"
   ]
  },
  {
   "cell_type": "markdown",
   "id": "45c9976e-adc9-486b-ace3-82e5c5c0955e",
   "metadata": {},
   "source": [
    "### Grain Industry Supply"
   ]
  },
  {
   "cell_type": "code",
   "execution_count": 15,
   "id": "42c7f961-9cfb-4efe-84f6-f16869802f78",
   "metadata": {
    "tags": []
   },
   "outputs": [],
   "source": [
    "file_path = \"Datasets_ECON323/grainsupply.csv\"\n",
    "cdf = pd.read_csv(file_path,parse_dates=['REF_DATE'])"
   ]
  },
  {
   "cell_type": "code",
   "execution_count": 16,
   "id": "da0da536-4af7-4678-9fd9-4f94b2e306bb",
   "metadata": {
    "tags": []
   },
   "outputs": [
    {
     "data": {
      "text/html": [
       "<div>\n",
       "<style scoped>\n",
       "    .dataframe tbody tr th:only-of-type {\n",
       "        vertical-align: middle;\n",
       "    }\n",
       "\n",
       "    .dataframe tbody tr th {\n",
       "        vertical-align: top;\n",
       "    }\n",
       "\n",
       "    .dataframe thead th {\n",
       "        text-align: right;\n",
       "    }\n",
       "</style>\n",
       "<table border=\"1\" class=\"dataframe\">\n",
       "  <thead>\n",
       "    <tr style=\"text-align: right;\">\n",
       "      <th>Category</th>\n",
       "      <th>Total Grain Exports</th>\n",
       "      <th>Total Grain Imports</th>\n",
       "      <th>Total Grain Supply</th>\n",
       "    </tr>\n",
       "    <tr>\n",
       "      <th>Year</th>\n",
       "      <th></th>\n",
       "      <th></th>\n",
       "      <th></th>\n",
       "    </tr>\n",
       "  </thead>\n",
       "  <tbody>\n",
       "    <tr>\n",
       "      <th>2010</th>\n",
       "      <td>114282.6</td>\n",
       "      <td>1928.4</td>\n",
       "      <td>326761.5</td>\n",
       "    </tr>\n",
       "    <tr>\n",
       "      <th>2011</th>\n",
       "      <td>109721.4</td>\n",
       "      <td>1565.5</td>\n",
       "      <td>316423.1</td>\n",
       "    </tr>\n",
       "    <tr>\n",
       "      <th>2012</th>\n",
       "      <td>118961.9</td>\n",
       "      <td>1329.1</td>\n",
       "      <td>322104.6</td>\n",
       "    </tr>\n",
       "    <tr>\n",
       "      <th>2013</th>\n",
       "      <td>127091.2</td>\n",
       "      <td>1297.5</td>\n",
       "      <td>348363.2</td>\n",
       "    </tr>\n",
       "    <tr>\n",
       "      <th>2014</th>\n",
       "      <td>143813.8</td>\n",
       "      <td>1227.2</td>\n",
       "      <td>395115.6</td>\n",
       "    </tr>\n",
       "  </tbody>\n",
       "</table>\n",
       "</div>"
      ],
      "text/plain": [
       "Category  Total Grain Exports  Total Grain Imports  Total Grain Supply\n",
       "Year                                                                  \n",
       "2010                 114282.6               1928.4            326761.5\n",
       "2011                 109721.4               1565.5            316423.1\n",
       "2012                 118961.9               1329.1            322104.6\n",
       "2013                 127091.2               1297.5            348363.2\n",
       "2014                 143813.8               1227.2            395115.6"
      ]
     },
     "execution_count": 16,
     "metadata": {},
     "output_type": "execute_result"
    }
   ],
   "source": [
    "#all grains\n",
    "cdfy = cdf.groupby([cdf['Supply and disposition of grains'], cdf['REF_DATE'].dt.year])['VALUE'].sum().reset_index() \n",
    "cdfy = cdfy.rename(columns={\"Supply and disposition of grains\": \"Category\", \"REF_DATE\": \"Year\", \"VALUE\":\"Value\"})\n",
    "cdfy['Category']=cdfy['Category'].replace({'Imports':'Total Grain Imports', 'Total exports':'Total Grain Exports','Total supplies':'Total Grain Supply'})\n",
    "cdfy = cdfy.set_index('Year')\n",
    "\n",
    "grain_ind = cdfy.pivot_table(\n",
    "    index='Year',\n",
    "    columns='Category',\n",
    "    values='Value'\n",
    ")\n",
    "grain_ind.head()"
   ]
  },
  {
   "cell_type": "markdown",
   "id": "0a48a8ed-aa7e-4825-a223-12c6c28c3504",
   "metadata": {},
   "source": [
    "### Exchange rate"
   ]
  },
  {
   "cell_type": "code",
   "execution_count": 17,
   "id": "ec7f5f8f-4b2f-42ea-882f-1fb2a2803307",
   "metadata": {
    "tags": []
   },
   "outputs": [],
   "source": [
    "file_path = \"Datasets_ECON323/CADMXN.csv\"\n",
    "cad_mxn = pd.read_csv(file_path, index_col=0)\n",
    "file_path = \"Datasets_ECON323/CADUSD.csv\"\n",
    "cad_usd = pd.read_csv(file_path, index_col=0)"
   ]
  },
  {
   "cell_type": "code",
   "execution_count": 18,
   "id": "5d4e1f14-e8aa-4930-8cab-3bde24bf1407",
   "metadata": {
    "tags": []
   },
   "outputs": [],
   "source": [
    "cad_mxn.reset_index(inplace=True)\n",
    "cad_usd.reset_index(inplace=True)"
   ]
  },
  {
   "cell_type": "code",
   "execution_count": 19,
   "id": "c6eac429-7c35-420c-ba97-fd8f895fa295",
   "metadata": {
    "tags": []
   },
   "outputs": [],
   "source": [
    "cad_mxn['Date'] = pd.to_datetime(cad_mxn['Date'])\n",
    "cad_mxn = cad_mxn[(cad_mxn['Date'] >= '2010-01-01') & (cad_mxn['Date'] <= '2023-12-31')]\n",
    "\n",
    "# Resample data annually and calculate the mean\n",
    "cad_mxn_annual = cad_mxn.resample('A', on='Date').mean()\n",
    "\n",
    "# Calculate percentage change in exchange rates\n",
    "cad_mxn_annual['Percentage Change'] = ((cad_mxn_annual['Close'] - cad_mxn_annual['Open']) / cad_mxn_annual['Open']) * 100\n",
    "\n",
    "#Extract year from index and create a new column\n",
    "cad_mxn_annual['Year'] = cad_mxn_annual.index.year\n",
    "\n",
    "#Filter data for the years 2010-2023\n",
    "cad_mxn_annual = cad_mxn_annual[(cad_mxn_annual.index.year >= 2010) & (cad_mxn_annual.index.year <= 2023)]\n",
    "cad_mxn_annual = cad_mxn_annual.set_index('Year')\n",
    "cad_mxn_annual = cad_mxn_annual.drop(columns=['Open', 'High', 'Low', 'Close', 'Volume'])"
   ]
  },
  {
   "cell_type": "code",
   "execution_count": 20,
   "id": "2496a740-bd35-4e34-a5b6-bab82009061b",
   "metadata": {
    "tags": []
   },
   "outputs": [],
   "source": [
    "cad_usd['Date'] = pd.to_datetime(cad_usd['Date'])\n",
    "cad_usd = cad_usd[(cad_usd['Date'] >= '2010-01-01') & (cad_usd['Date'] <= '2023-12-31')]\n",
    "\n",
    "# Resample data annually and calculate the mean\n",
    "cad_usd_annual = cad_usd.resample('A', on='Date').mean()\n",
    "\n",
    "#Calculate percentage change in exchange rates \n",
    "cad_usd_annual['Percentage Change'] = ((cad_usd_annual['Close'] - cad_usd_annual['Open']) / cad_usd_annual['Open']) * 100\n",
    "\n",
    "#Extract year from index and create a new column\n",
    "cad_usd_annual['Year'] = cad_usd_annual.index.year\n",
    "\n",
    "#Filter data for the years 2010-2023\n",
    "cad_usd_annual = cad_usd_annual[(cad_usd_annual.index.year >= 2010) & (cad_usd_annual.index.year <= 2023)]\n",
    "cad_usd_annual = cad_usd_annual.set_index('Year')\n",
    "cad_usd_annual = cad_usd_annual.drop(columns=['Open', 'High', 'Low', 'Close', 'Volume'])"
   ]
  },
  {
   "cell_type": "code",
   "execution_count": 21,
   "id": "86566037-eaf5-4809-b267-0e996893d012",
   "metadata": {
    "tags": []
   },
   "outputs": [
    {
     "data": {
      "text/html": [
       "<div>\n",
       "<style scoped>\n",
       "    .dataframe tbody tr th:only-of-type {\n",
       "        vertical-align: middle;\n",
       "    }\n",
       "\n",
       "    .dataframe tbody tr th {\n",
       "        vertical-align: top;\n",
       "    }\n",
       "\n",
       "    .dataframe thead th {\n",
       "        text-align: right;\n",
       "    }\n",
       "</style>\n",
       "<table border=\"1\" class=\"dataframe\">\n",
       "  <thead>\n",
       "    <tr style=\"text-align: right;\">\n",
       "      <th></th>\n",
       "      <th>CAD-MXN EX</th>\n",
       "      <th>Percent Change CAD-MXN</th>\n",
       "      <th>CAD-USD EX</th>\n",
       "      <th>Percent Change CAD-USD</th>\n",
       "    </tr>\n",
       "    <tr>\n",
       "      <th>Year</th>\n",
       "      <th></th>\n",
       "      <th></th>\n",
       "      <th></th>\n",
       "      <th></th>\n",
       "    </tr>\n",
       "  </thead>\n",
       "  <tbody>\n",
       "    <tr>\n",
       "      <th>2010</th>\n",
       "      <td>12.227417</td>\n",
       "      <td>-0.029978</td>\n",
       "      <td>0.966085</td>\n",
       "      <td>0.378777</td>\n",
       "    </tr>\n",
       "    <tr>\n",
       "      <th>2011</th>\n",
       "      <td>12.625667</td>\n",
       "      <td>0.778917</td>\n",
       "      <td>1.012856</td>\n",
       "      <td>-0.405890</td>\n",
       "    </tr>\n",
       "    <tr>\n",
       "      <th>2012</th>\n",
       "      <td>13.140333</td>\n",
       "      <td>-0.485945</td>\n",
       "      <td>1.001247</td>\n",
       "      <td>0.244768</td>\n",
       "    </tr>\n",
       "    <tr>\n",
       "      <th>2013</th>\n",
       "      <td>12.410317</td>\n",
       "      <td>-0.340288</td>\n",
       "      <td>0.966006</td>\n",
       "      <td>-0.598779</td>\n",
       "    </tr>\n",
       "    <tr>\n",
       "      <th>2014</th>\n",
       "      <td>12.057342</td>\n",
       "      <td>0.319983</td>\n",
       "      <td>0.902780</td>\n",
       "      <td>-0.690286</td>\n",
       "    </tr>\n",
       "  </tbody>\n",
       "</table>\n",
       "</div>"
      ],
      "text/plain": [
       "      CAD-MXN EX  Percent Change CAD-MXN  CAD-USD EX  Percent Change CAD-USD\n",
       "Year                                                                        \n",
       "2010   12.227417               -0.029978    0.966085                0.378777\n",
       "2011   12.625667                0.778917    1.012856               -0.405890\n",
       "2012   13.140333               -0.485945    1.001247                0.244768\n",
       "2013   12.410317               -0.340288    0.966006               -0.598779\n",
       "2014   12.057342                0.319983    0.902780               -0.690286"
      ]
     },
     "execution_count": 21,
     "metadata": {},
     "output_type": "execute_result"
    }
   ],
   "source": [
    "merged_ex = cad_mxn_annual.merge(cad_usd_annual, on='Year', suffixes=('_cad_mxn', '_cad_usd'))\n",
    "#merged_ex = merged_ex.drop(columns=['level_0_cad_mxn','date','level_0_cad_usd','index'])\n",
    "# Display the merged DataFrame\n",
    "merged_ex = merged_ex.rename(columns={'Adj Close_cad_mxn':'CAD-MXN EX',\n",
    "                                      'Percentage Change_cad_mxn':'Percent Change CAD-MXN',\n",
    "                                      'Adj Close_cad_usd':'CAD-USD EX',\n",
    "                                      'Percentage Change_cad_usd':'Percent Change CAD-USD'})\n",
    "merged_ex.head()"
   ]
  },
  {
   "cell_type": "markdown",
   "id": "a5ac36e8-6479-4b40-8242-fd266edd4fee",
   "metadata": {},
   "source": [
    "### Dairy Industry Revenue"
   ]
  },
  {
   "cell_type": "code",
   "execution_count": 23,
   "id": "6252a141-f36d-4eb8-a6b1-f129a3c8fe72",
   "metadata": {
    "tags": []
   },
   "outputs": [
    {
     "data": {
      "text/html": [
       "<div>\n",
       "<style scoped>\n",
       "    .dataframe tbody tr th:only-of-type {\n",
       "        vertical-align: middle;\n",
       "    }\n",
       "\n",
       "    .dataframe tbody tr th {\n",
       "        vertical-align: top;\n",
       "    }\n",
       "\n",
       "    .dataframe thead th {\n",
       "        text-align: right;\n",
       "    }\n",
       "</style>\n",
       "<table border=\"1\" class=\"dataframe\">\n",
       "  <thead>\n",
       "    <tr style=\"text-align: right;\">\n",
       "      <th></th>\n",
       "      <th>Dairy Market Value</th>\n",
       "    </tr>\n",
       "    <tr>\n",
       "      <th>Year</th>\n",
       "      <th></th>\n",
       "    </tr>\n",
       "  </thead>\n",
       "  <tbody>\n",
       "    <tr>\n",
       "      <th>2010</th>\n",
       "      <td>11.27</td>\n",
       "    </tr>\n",
       "    <tr>\n",
       "      <th>2011</th>\n",
       "      <td>11.00</td>\n",
       "    </tr>\n",
       "    <tr>\n",
       "      <th>2012</th>\n",
       "      <td>11.27</td>\n",
       "    </tr>\n",
       "    <tr>\n",
       "      <th>2013</th>\n",
       "      <td>11.00</td>\n",
       "    </tr>\n",
       "    <tr>\n",
       "      <th>2014</th>\n",
       "      <td>10.95</td>\n",
       "    </tr>\n",
       "  </tbody>\n",
       "</table>\n",
       "</div>"
      ],
      "text/plain": [
       "      Dairy Market Value\n",
       "Year                    \n",
       "2010               11.27\n",
       "2011               11.00\n",
       "2012               11.27\n",
       "2013               11.00\n",
       "2014               10.95"
      ]
     },
     "execution_count": 23,
     "metadata": {},
     "output_type": "execute_result"
    }
   ],
   "source": [
    "# in billions USD\n",
    "\n",
    "data = {\n",
    "    'Year': [2010, 2011, 2012, 2013, 2014, 2015, 2016, 2017, 2018, 2019, 2020, 2021, 2022, 2023, 2024],\n",
    "    'Dairy Product Manufacturing': [10.74, 10.47, 10.74, 10.47, 10.43, 10.30, 11.26, 11.55, 12.22, 12.54, 12.58, 12.89, 13.25, 13.66, 13.91],\n",
    "    'Ice Cream and Frozen Dessert Manufacturing': [0.53, 0.53, 0.53, 0.53, 0.52, 0.53, 0.53, 0.63, 0.70, 0.74, 0.77, 0.80, 0.84, 0.89, 0.92]\n",
    "}\n",
    "\n",
    "# Create a DataFrame\n",
    "dairy_revenue = pd.DataFrame(data)\n",
    "\n",
    "# Use backfill to fill in missing values\n",
    "dairy_revenue = dairy_revenue.bfill()\n",
    "\n",
    "# Add new rows for the years 2010 and 2011 and fill them using backfill\n",
    "new_rows = pd.DataFrame({'Year': [2010, 2011], 'Dairy Product Manufacturing': None, 'Ice Cream and Frozen Dessert Manufacturing': None})\n",
    "dairy_revenue = pd.concat([new_rows, dairy_revenue]).sort_values(by='Year').reset_index(drop=True)\n",
    "dairy_revenue = dairy_revenue.bfill()\n",
    "\n",
    "# Sum the values of 'Dairy Product Manufacturing' and 'Ice Cream and Frozen Dessert Manufacturing' columns\n",
    "dairy_revenue['Dairy Market Value'] = dairy_revenue['Dairy Product Manufacturing'] + dairy_revenue['Ice Cream and Frozen Dessert Manufacturing']\n",
    "\n",
    "dairy_revenue = dairy_revenue.set_index('Year')\n",
    "dairy_revenue = dairy_revenue.drop(columns={'Dairy Product Manufacturing','Ice Cream and Frozen Dessert Manufacturing'},index=2024)\n",
    "dairy_revenue = dairy_revenue[~dairy_revenue.index.duplicated(keep='first')]\n",
    "\n",
    "dairy_revenue.head()"
   ]
  },
  {
   "cell_type": "markdown",
   "id": "8c1d00c8-1523-41ad-bc88-18bc87ae4616",
   "metadata": {},
   "source": [
    "### Wheat Industry"
   ]
  },
  {
   "cell_type": "code",
   "execution_count": 24,
   "id": "cf79b294-9d32-42c1-a47b-9160bb30d1e9",
   "metadata": {
    "tags": []
   },
   "outputs": [
    {
     "data": {
      "text/html": [
       "<div>\n",
       "<style scoped>\n",
       "    .dataframe tbody tr th:only-of-type {\n",
       "        vertical-align: middle;\n",
       "    }\n",
       "\n",
       "    .dataframe tbody tr th {\n",
       "        vertical-align: top;\n",
       "    }\n",
       "\n",
       "    .dataframe thead th {\n",
       "        text-align: right;\n",
       "    }\n",
       "</style>\n",
       "<table border=\"1\" class=\"dataframe\">\n",
       "  <thead>\n",
       "    <tr style=\"text-align: right;\">\n",
       "      <th></th>\n",
       "      <th>Grain Market Value</th>\n",
       "    </tr>\n",
       "    <tr>\n",
       "      <th>Year</th>\n",
       "      <th></th>\n",
       "    </tr>\n",
       "  </thead>\n",
       "  <tbody>\n",
       "    <tr>\n",
       "      <th>2010</th>\n",
       "      <td>1.665423e+07</td>\n",
       "    </tr>\n",
       "    <tr>\n",
       "      <th>2011</th>\n",
       "      <td>1.887084e+07</td>\n",
       "    </tr>\n",
       "    <tr>\n",
       "      <th>2012</th>\n",
       "      <td>2.156393e+07</td>\n",
       "    </tr>\n",
       "    <tr>\n",
       "      <th>2013</th>\n",
       "      <td>2.321297e+07</td>\n",
       "    </tr>\n",
       "    <tr>\n",
       "      <th>2014</th>\n",
       "      <td>2.264491e+07</td>\n",
       "    </tr>\n",
       "  </tbody>\n",
       "</table>\n",
       "</div>"
      ],
      "text/plain": [
       "      Grain Market Value\n",
       "Year                    \n",
       "2010        1.665423e+07\n",
       "2011        1.887084e+07\n",
       "2012        2.156393e+07\n",
       "2013        2.321297e+07\n",
       "2014        2.264491e+07"
      ]
     },
     "execution_count": 24,
     "metadata": {},
     "output_type": "execute_result"
    }
   ],
   "source": [
    "file_path = 'Datasets_ECON323/wheat_prod.csv'\n",
    "wt_prod = pd.read_csv(file_path, low_memory=False, parse_dates=['REF_DATE'])\n",
    "\n",
    "wt_prod = wt_prod.drop(columns=['GEO', 'DGUID', 'Type of crop', \n",
    "                           'Supply and disposition of grains', 'UOM', \n",
    "                           'UOM_ID', 'SCALAR_FACTOR', 'SCALAR_ID', 'VECTOR',\n",
    "                           'COORDINATE', 'STATUS', 'SYMBOL', 'TERMINATED', 'DECIMALS'])\n",
    "wt_prod = wt_prod.groupby(wt_prod['REF_DATE'].dt.year)['VALUE'].sum()\n",
    "wt_prod = wt_prod.to_frame().reset_index()\n",
    "wt_prod = wt_prod.rename(columns={'REF_DATE': 'Year',\n",
    "                                  'VALUE': 'Total Wheat Production'})\n",
    "\n",
    "file_path = 'Datasets_ECON323/wheat_price.csv'\n",
    "wt_price = pd.read_csv(file_path, low_memory=False, parse_dates=['date'], dayfirst=True)\n",
    "# wt_price.info()\n",
    "wt_price = wt_price.rename(columns={'date': 'Year', ' value': 'Wheat Price'})\n",
    "wt_price = wt_price.groupby(wt_price['Year'].dt.year)['Wheat Price'].mean()\n",
    "wt_price = wt_price.to_frame().reset_index()\n",
    "wt_price = wt_price[wt_price['Year'] > 2009]\n",
    "# bushel * bushel price \n",
    "wt_price['Wheat Price'] = wt_price['Wheat Price'] * 36.7437\n",
    "wt_rev = pd.merge(wt_prod, wt_price[['Year', 'Wheat Price']], on='Year', how='left')\n",
    "wt_rev['Grain Market Value'] = wt_rev['Total Wheat Production'] * wt_rev['Wheat Price']\n",
    "wt_rev = wt_rev.set_index('Year')\n",
    "\n",
    "wt_rev = wt_rev.drop(columns=['Total Wheat Production', 'Wheat Price'])\n",
    "\n",
    "wt_rev.head()"
   ]
  },
  {
   "cell_type": "markdown",
   "id": "bfbc6011-7daf-4689-b87f-ed20f91f3a2e",
   "metadata": {},
   "source": [
    "### CAN Pop"
   ]
  },
  {
   "cell_type": "code",
   "execution_count": 25,
   "id": "6eec6aa2-b931-4639-86fd-b98464514043",
   "metadata": {
    "tags": []
   },
   "outputs": [
    {
     "data": {
      "text/html": [
       "<div>\n",
       "<style scoped>\n",
       "    .dataframe tbody tr th:only-of-type {\n",
       "        vertical-align: middle;\n",
       "    }\n",
       "\n",
       "    .dataframe tbody tr th {\n",
       "        vertical-align: top;\n",
       "    }\n",
       "\n",
       "    .dataframe thead th {\n",
       "        text-align: right;\n",
       "    }\n",
       "</style>\n",
       "<table border=\"1\" class=\"dataframe\">\n",
       "  <thead>\n",
       "    <tr style=\"text-align: right;\">\n",
       "      <th></th>\n",
       "      <th>CAN Population</th>\n",
       "    </tr>\n",
       "    <tr>\n",
       "      <th>Year</th>\n",
       "      <th></th>\n",
       "    </tr>\n",
       "  </thead>\n",
       "  <tbody>\n",
       "    <tr>\n",
       "      <th>2010</th>\n",
       "      <td>34004889.0</td>\n",
       "    </tr>\n",
       "    <tr>\n",
       "      <th>2011</th>\n",
       "      <td>34339328.0</td>\n",
       "    </tr>\n",
       "    <tr>\n",
       "      <th>2012</th>\n",
       "      <td>34714222.0</td>\n",
       "    </tr>\n",
       "    <tr>\n",
       "      <th>2013</th>\n",
       "      <td>35082954.0</td>\n",
       "    </tr>\n",
       "    <tr>\n",
       "      <th>2014</th>\n",
       "      <td>35437435.0</td>\n",
       "    </tr>\n",
       "  </tbody>\n",
       "</table>\n",
       "</div>"
      ],
      "text/plain": [
       "0     CAN Population\n",
       "Year                \n",
       "2010      34004889.0\n",
       "2011      34339328.0\n",
       "2012      34714222.0\n",
       "2013      35082954.0\n",
       "2014      35437435.0"
      ]
     },
     "execution_count": 25,
     "metadata": {},
     "output_type": "execute_result"
    }
   ],
   "source": [
    "file_path = 'Datasets_ECON323/canadapopulation.csv'\n",
    "ca_pop = pd.read_csv(file_path, low_memory=False)\n",
    "ca_pop = ca_pop.drop(ca_pop.index[0:3])\n",
    "ca_pop = ca_pop.drop(columns='World Development Indicators')\n",
    "ca_pop = ca_pop.T\n",
    "ca_pop.reset_index(inplace=True)\n",
    "ca_pop.columns = ca_pop.iloc[0]\n",
    "ca_pop = ca_pop.drop(ca_pop.index[0:1])\n",
    "ca_pop = ca_pop.rename(columns={'Data Source': 'Year'})\n",
    "\n",
    "year_values = ca_pop['Year'].tolist()\n",
    "\n",
    "year = 1960\n",
    "\n",
    "for i, value in enumerate(year_values):\n",
    "    if value.startswith('Unnamed: '):\n",
    "        year_values[i] = year\n",
    "        year += 1\n",
    "        \n",
    "ca_pop['Year'] = year_values\n",
    "\n",
    "columns_to_keep = ['Year', 'Canada']\n",
    "columns_to_drop = [col for col in ca_pop.columns if col not in columns_to_keep]\n",
    "ca_pop = ca_pop.drop(columns_to_drop, axis=1)\n",
    "ca_pop = ca_pop.ffill()\n",
    "ca_pop = ca_pop[ca_pop['Year'] > 2009]\n",
    "ca_pop.reset_index(inplace=True)\n",
    "ca_pop = ca_pop.drop(columns='index')\n",
    "\n",
    "ca_pop = ca_pop.set_index('Year')\n",
    "ca_pop = ca_pop.rename(columns={'Canada':'CAN Population'})\n",
    "\n",
    "ca_pop.head()"
   ]
  },
  {
   "cell_type": "markdown",
   "id": "cdad477d-04f8-43a4-adb8-8ce28c93c996",
   "metadata": {},
   "source": [
    "### CAN GDP"
   ]
  },
  {
   "cell_type": "code",
   "execution_count": 27,
   "id": "8e636bb2-5d4a-427f-bacb-49801e770407",
   "metadata": {
    "tags": []
   },
   "outputs": [
    {
     "data": {
      "text/html": [
       "<div>\n",
       "<style scoped>\n",
       "    .dataframe tbody tr th:only-of-type {\n",
       "        vertical-align: middle;\n",
       "    }\n",
       "\n",
       "    .dataframe tbody tr th {\n",
       "        vertical-align: top;\n",
       "    }\n",
       "\n",
       "    .dataframe thead th {\n",
       "        text-align: right;\n",
       "    }\n",
       "</style>\n",
       "<table border=\"1\" class=\"dataframe\">\n",
       "  <thead>\n",
       "    <tr style=\"text-align: right;\">\n",
       "      <th></th>\n",
       "      <th>CAN GDP</th>\n",
       "    </tr>\n",
       "    <tr>\n",
       "      <th>Year</th>\n",
       "      <th></th>\n",
       "    </tr>\n",
       "  </thead>\n",
       "  <tbody>\n",
       "    <tr>\n",
       "      <th>2010</th>\n",
       "      <td>1617343367486.258545</td>\n",
       "    </tr>\n",
       "    <tr>\n",
       "      <th>2011</th>\n",
       "      <td>1793326630174.518555</td>\n",
       "    </tr>\n",
       "    <tr>\n",
       "      <th>2012</th>\n",
       "      <td>1828366481521.595215</td>\n",
       "    </tr>\n",
       "    <tr>\n",
       "      <th>2013</th>\n",
       "      <td>1846597421834.983398</td>\n",
       "    </tr>\n",
       "    <tr>\n",
       "      <th>2014</th>\n",
       "      <td>1805749878439.941162</td>\n",
       "    </tr>\n",
       "  </tbody>\n",
       "</table>\n",
       "</div>"
      ],
      "text/plain": [
       "0                  CAN GDP\n",
       "Year                      \n",
       "2010  1617343367486.258545\n",
       "2011  1793326630174.518555\n",
       "2012  1828366481521.595215\n",
       "2013  1846597421834.983398\n",
       "2014  1805749878439.941162"
      ]
     },
     "execution_count": 27,
     "metadata": {},
     "output_type": "execute_result"
    }
   ],
   "source": [
    "file_path = 'Datasets_ECON323/canadagdp.xls'\n",
    "ca_gdp = pd.read_excel(file_path)\n",
    "\n",
    "# Cleaning the dataset\n",
    "ca_gdp = ca_gdp.drop(columns='World Development Indicators')\n",
    "ca_gdp = ca_gdp.drop(ca_gdp.index[:3])\n",
    "ca_gdp = ca_gdp.T\n",
    "ca_gdp.reset_index(inplace=True)\n",
    "ca_gdp.columns = ca_gdp.iloc[0]\n",
    "ca_gdp = ca_gdp.drop(ca_gdp.index[0:3])\n",
    "ca_gdp = ca_gdp.rename(columns={'Data Source': 'Year'})\n",
    "\n",
    "# We want to rename the unnamed values in the 'Year' columns to the corresponding years\n",
    "year = 1960\n",
    "year_values = ca_gdp['Year'].tolist()\n",
    "\n",
    "for i, value in enumerate(year_values):\n",
    "    if value.startswith('Unnamed: '):\n",
    "        year_values[i] = year\n",
    "        year += 1\n",
    "        \n",
    "ca_gdp['Year'] = year_values\n",
    "\n",
    "# We want to clean the dataframe so that it only has the 'Year' and 'Canada' columns\n",
    "columns_to_keep = ['Year', 'Canada']\n",
    "columns_to_drop = [col for col in ca_gdp.columns if col not in columns_to_keep]\n",
    "\n",
    "ca_gdp = ca_gdp.drop(columns_to_drop, axis=1)\n",
    "ca_gdp = ca_gdp[ca_gdp['Year'] > 2009]\n",
    "ca_gdp.reset_index(inplace=True)\n",
    "ca_gdp = ca_gdp.drop(columns='index')\n",
    "ca_gdp = ca_gdp.set_index('Year')\n",
    "ca_gdp.loc[2023,'Canada']=2145400000000.00000\n",
    "ca_gdp = ca_gdp.rename(columns={'Canada':'CAN GDP'})\n",
    "\n",
    "ca_gdp.head()"
   ]
  },
  {
   "cell_type": "markdown",
   "id": "5c6de07d-07d2-494b-ab00-338bf14e3d6b",
   "metadata": {},
   "source": [
    "# Full Combined"
   ]
  },
  {
   "cell_type": "code",
   "execution_count": 28,
   "id": "56214edc-5d33-4891-8eb6-325364819ad4",
   "metadata": {
    "tags": []
   },
   "outputs": [
    {
     "name": "stdout",
     "output_type": "stream",
     "text": [
      "<class 'pandas.core.frame.DataFrame'>\n",
      "Int64Index: 14 entries, 2010 to 2023\n",
      "Data columns (total 17 columns):\n",
      " #   Column                               Non-Null Count  Dtype  \n",
      "---  ------                               --------------  -----  \n",
      " 0   CAN Population                       14 non-null     float64\n",
      " 1   CAN GDP                              14 non-null     object \n",
      " 2   FDI Balances                         14 non-null     int64  \n",
      " 3   CAN Official International Reserves  14 non-null     int64  \n",
      " 4   CAD-MXN EX                           14 non-null     float64\n",
      " 5   Percent Change CAD-MXN               14 non-null     float64\n",
      " 6   CAD-USD EX                           14 non-null     float64\n",
      " 7   Percent Change CAD-USD               14 non-null     float64\n",
      " 8   Inflation (CPI)                      14 non-null     float64\n",
      " 9   Total Dairy Exports                  14 non-null     float64\n",
      " 10  Total Dairy Imports                  14 non-null     float64\n",
      " 11  Total Dairy Supply                   14 non-null     float64\n",
      " 12  Total Grain Exports                  14 non-null     float64\n",
      " 13  Total Grain Imports                  14 non-null     float64\n",
      " 14  Total Grain Supply                   14 non-null     float64\n",
      " 15  Dairy Market Value                   14 non-null     float64\n",
      " 16  Grain Market Value                   14 non-null     float64\n",
      "dtypes: float64(14), int64(2), object(1)\n",
      "memory usage: 2.0+ KB\n"
     ]
    }
   ],
   "source": [
    "combined_df = pd.concat([ca_pop, ca_gdp, FDI, filtered_FCR, merged_ex, filtered_inflation, dairy_ind, grain_ind, dairy_revenue, wt_rev],axis=1)\n",
    "combined_df.info()"
   ]
  },
  {
   "cell_type": "markdown",
   "id": "3147441f-15af-4605-83ea-5a3ec22270ca",
   "metadata": {},
   "source": [
    "## Data Cleaning and Processing"
   ]
  },
  {
   "cell_type": "code",
   "execution_count": 31,
   "id": "7bf8b9c4-df7f-4201-b864-5fc61f97266b",
   "metadata": {
    "tags": []
   },
   "outputs": [
    {
     "data": {
      "text/html": [
       "<div>\n",
       "<style scoped>\n",
       "    .dataframe tbody tr th:only-of-type {\n",
       "        vertical-align: middle;\n",
       "    }\n",
       "\n",
       "    .dataframe tbody tr th {\n",
       "        vertical-align: top;\n",
       "    }\n",
       "\n",
       "    .dataframe thead th {\n",
       "        text-align: right;\n",
       "    }\n",
       "</style>\n",
       "<table border=\"1\" class=\"dataframe\">\n",
       "  <thead>\n",
       "    <tr style=\"text-align: right;\">\n",
       "      <th></th>\n",
       "      <th>Year</th>\n",
       "      <th>CAN Population</th>\n",
       "      <th>CAN GDP</th>\n",
       "      <th>FDI Balances</th>\n",
       "      <th>CAN Official International Reserves</th>\n",
       "      <th>Percent Change CAD-MXN</th>\n",
       "      <th>Percent Change CAD-USD</th>\n",
       "      <th>Inflation (CPI)</th>\n",
       "      <th>Post</th>\n",
       "      <th>Treatment</th>\n",
       "      <th>Net Exports</th>\n",
       "      <th>Market Value</th>\n",
       "      <th>Interaction Term</th>\n",
       "    </tr>\n",
       "  </thead>\n",
       "  <tbody>\n",
       "    <tr>\n",
       "      <th>0</th>\n",
       "      <td>2010</td>\n",
       "      <td>34004889.0</td>\n",
       "      <td>1.617343e+12</td>\n",
       "      <td>-59351</td>\n",
       "      <td>57151</td>\n",
       "      <td>-0.029978</td>\n",
       "      <td>0.378777</td>\n",
       "      <td>1.1</td>\n",
       "      <td>0</td>\n",
       "      <td>1</td>\n",
       "      <td>-16173.0</td>\n",
       "      <td>11.27</td>\n",
       "      <td>0</td>\n",
       "    </tr>\n",
       "    <tr>\n",
       "      <th>1</th>\n",
       "      <td>2011</td>\n",
       "      <td>34339328.0</td>\n",
       "      <td>1.793327e+12</td>\n",
       "      <td>-48112</td>\n",
       "      <td>65819</td>\n",
       "      <td>0.778917</td>\n",
       "      <td>-0.405890</td>\n",
       "      <td>2.0</td>\n",
       "      <td>0</td>\n",
       "      <td>1</td>\n",
       "      <td>-18378.0</td>\n",
       "      <td>11.00</td>\n",
       "      <td>0</td>\n",
       "    </tr>\n",
       "    <tr>\n",
       "      <th>2</th>\n",
       "      <td>2012</td>\n",
       "      <td>34714222.0</td>\n",
       "      <td>1.828366e+12</td>\n",
       "      <td>-64579</td>\n",
       "      <td>68546</td>\n",
       "      <td>-0.485945</td>\n",
       "      <td>0.244768</td>\n",
       "      <td>1.6</td>\n",
       "      <td>0</td>\n",
       "      <td>1</td>\n",
       "      <td>-14351.0</td>\n",
       "      <td>11.27</td>\n",
       "      <td>0</td>\n",
       "    </tr>\n",
       "    <tr>\n",
       "      <th>3</th>\n",
       "      <td>2013</td>\n",
       "      <td>35082954.0</td>\n",
       "      <td>1.846597e+12</td>\n",
       "      <td>-59759</td>\n",
       "      <td>71937</td>\n",
       "      <td>-0.340288</td>\n",
       "      <td>-0.598779</td>\n",
       "      <td>1.1</td>\n",
       "      <td>0</td>\n",
       "      <td>1</td>\n",
       "      <td>-7307.0</td>\n",
       "      <td>11.00</td>\n",
       "      <td>0</td>\n",
       "    </tr>\n",
       "    <tr>\n",
       "      <th>4</th>\n",
       "      <td>2014</td>\n",
       "      <td>35437435.0</td>\n",
       "      <td>1.805750e+12</td>\n",
       "      <td>-46278</td>\n",
       "      <td>74700</td>\n",
       "      <td>0.319983</td>\n",
       "      <td>-0.690286</td>\n",
       "      <td>1.7</td>\n",
       "      <td>0</td>\n",
       "      <td>1</td>\n",
       "      <td>-16748.0</td>\n",
       "      <td>10.95</td>\n",
       "      <td>0</td>\n",
       "    </tr>\n",
       "  </tbody>\n",
       "</table>\n",
       "</div>"
      ],
      "text/plain": [
       "   Year  CAN Population       CAN GDP  FDI Balances  \\\n",
       "0  2010      34004889.0  1.617343e+12        -59351   \n",
       "1  2011      34339328.0  1.793327e+12        -48112   \n",
       "2  2012      34714222.0  1.828366e+12        -64579   \n",
       "3  2013      35082954.0  1.846597e+12        -59759   \n",
       "4  2014      35437435.0  1.805750e+12        -46278   \n",
       "\n",
       "   CAN Official International Reserves  Percent Change CAD-MXN  \\\n",
       "0                                57151               -0.029978   \n",
       "1                                65819                0.778917   \n",
       "2                                68546               -0.485945   \n",
       "3                                71937               -0.340288   \n",
       "4                                74700                0.319983   \n",
       "\n",
       "   Percent Change CAD-USD  Inflation (CPI)  Post  Treatment  Net Exports  \\\n",
       "0                0.378777              1.1     0          1     -16173.0   \n",
       "1               -0.405890              2.0     0          1     -18378.0   \n",
       "2                0.244768              1.6     0          1     -14351.0   \n",
       "3               -0.598779              1.1     0          1      -7307.0   \n",
       "4               -0.690286              1.7     0          1     -16748.0   \n",
       "\n",
       "   Market Value  Interaction Term  \n",
       "0         11.27                 0  \n",
       "1         11.00                 0  \n",
       "2         11.27                 0  \n",
       "3         11.00                 0  \n",
       "4         10.95                 0  "
      ]
     },
     "execution_count": 31,
     "metadata": {},
     "output_type": "execute_result"
    }
   ],
   "source": [
    "combined_df = pd.concat([ca_pop, ca_gdp, FDI, filtered_FCR, merged_ex, filtered_inflation, dairy_ind, grain_ind, dairy_revenue, wt_rev],axis=1)\n",
    "\n",
    "# Create Net Export Columns\n",
    "combined_df['Dairy Net Exports'] = combined_df['Total Dairy Exports'] - combined_df['Total Dairy Imports']\n",
    "combined_df['Grain Net Exports'] = combined_df['Total Grain Exports'] - combined_df['Total Grain Imports']\n",
    "\n",
    "# Convert 'CAN GDP' column into a numeric column\n",
    "combined_df['CAN GDP'] = pd.to_numeric(combined_df['CAN GDP'], errors='coerce')\n",
    "\n",
    "# Drop columns that causes multicollinearity\n",
    "combined_df = combined_df.drop(columns=['Total Dairy Exports', 'Total Dairy Imports', 'Total Dairy Supply',\n",
    "                                        'Total Grain Exports', 'Total Grain Imports', 'Total Grain Supply',\n",
    "                                        'CAD-MXN EX', 'CAD-USD EX'])\n",
    "\n",
    "# Reset the index to allow for 'Year' column\n",
    "combined_df.reset_index(inplace=True)\n",
    "\n",
    "# Create a 'Post' variable where years before 2020 have value '0' and years 2020 and after have value '1' for DID analysis\n",
    "combined_df['Post'] = combined_df['Year'].apply(lambda year: 1 if year >= 2020 else 0)\n",
    "combined_df.head()\n",
    "\n",
    "\n",
    "# Pivot the dataframe to combine Net Export columns and Market Value columns, with a 'Treatment' column distinguishing between dairy and grain\n",
    "# Melt the DataFrame to combine 'Dairy Net Exports' and 'Grain Net Exports' together\n",
    "combined_df = pd.melt(combined_df, \n",
    "                      id_vars=['Year', 'CAN Population', 'CAN GDP', 'FDI Balances', \n",
    "                               'CAN Official International Reserves',\n",
    "                               'Percent Change CAD-MXN', 'Percent Change CAD-USD',\n",
    "                               'Inflation (CPI)', 'Dairy Market Value', 'Grain Market Value', 'Post'], \n",
    "                      value_vars=['Dairy Net Exports', 'Grain Net Exports'], \n",
    "                      var_name='Treatment', value_name='Net Exports')\n",
    "\n",
    "# Replace 'Dairy Net Exports' with '1' and 'Grain Net Exports' with '0' in the 'Treatment' column\n",
    "combined_df['Treatment'] = combined_df['Treatment'].replace('Dairy Net Exports', 1)\n",
    "combined_df['Treatment'] = combined_df['Treatment'].replace('Grain Net Exports', 0)\n",
    "\n",
    "# Set 'Dairy Market Value' to '0' where 'Treatment' equals to '0'\n",
    "combined_df.loc[combined_df['Treatment'] == 0, 'Dairy Market Value'] = 0\n",
    "\n",
    "# Set 'Grain Market Value' to '0' where 'Treatment' equals to '1'\n",
    "combined_df.loc[combined_df['Treatment'] == 1, 'Grain Market Value'] = 0\n",
    "\n",
    "# Combine 'Dairy Market Value' and 'Grain Market Value' columns into 'Market Value' columns\n",
    "combined_df['Market Value'] = combined_df['Dairy Market Value'] + combined_df['Grain Market Value']\n",
    "\n",
    "# Drop 'Dairy Market Value' and 'Grain Market Value' columns\n",
    "combined_df = combined_df.drop(columns=['Dairy Market Value', 'Grain Market Value'])\n",
    "\n",
    "# 'Post' variable determines before and after treatment, and 'Industry' variable determines control and treatment groups\n",
    "# Create an interaction term 'Post' multiplied by 'Industry'\n",
    "combined_df['Interaction Term'] = combined_df['Post'] * combined_df['Treatment']\n",
    "\n",
    "# combined_df = combined_df.set_index('Year')\n",
    "\n",
    "combined_df.head()"
   ]
  },
  {
   "cell_type": "markdown",
   "id": "418f2f37-2337-4b2d-a622-65471f804bd8",
   "metadata": {},
   "source": [
    "## Trends in the Data\n",
    "#### Exchange Rate: \n",
    "Exchange rates are pivotal in global trade, impacting export competitiveness and import costs. The CAD to USD rate fluctuated over the years: it rose from 2010 to 2012, dipped in 2013-2014, and plummeted in 2015. Modest rises occurred in 2016 and 2019, while declines marked 2017, 2018, 2021, and 2022. Slight fluctuations persisted in 2020 and 2023. Similarly, the CAD to MXN rate showed volatility: it surged in 2011 but declined in 2012-2013. Minor changes occurred in 2014 and 2016, with a slight dip in 2015. 2017 saw a moderate decline, whereas significant drops marked 2018 and 2022. A slight decrease was noted in 2019, with modest rises in 2020-2021 followed by substantial declines in 2023. Stable exchange rates are vital for seamless trade, especially under agreements like CUSMA, ensuring mutually beneficial trade relations."
   ]
  },
  {
   "cell_type": "code",
   "execution_count": 32,
   "id": "f174d4fb-d8c1-4789-bc83-e62a543f9f26",
   "metadata": {
    "tags": []
   },
   "outputs": [
    {
     "data": {
      "image/png": "[encoded data removed]",
      "text/plain": [
       "<Figure size 1000x500 with 1 Axes>"
      ]
     },
     "metadata": {},
     "output_type": "display_data"
    }
   ],
   "source": [
    "#sort index\n",
    "combined_df = combined_df.sort_index()\n",
    "\n",
    "# Create figure and axis objects\n",
    "fig, ax = plt.subplots(figsize=(10, 5))\n",
    "\n",
    "# Plot exchange rate trends for CAD/USD\n",
    "ax.plot(combined_df['Year'], combined_df['Percent Change CAD-USD'], label='CAD/USD')\n",
    "\n",
    "# Plot exchange rate trends for CAD/MXN\n",
    "ax.plot(combined_df['Year'], combined_df['Percent Change CAD-MXN'], label='CAD/MXN')\n",
    "\n",
    "# Set plot title and labels\n",
    "ax.set_title('Annual Exchange Rate Trends (2010-2023)')\n",
    "ax.set_xlabel('Year')\n",
    "ax.set_ylabel('Percentage Change')\n",
    "\n",
    "# Add legend\n",
    "ax.legend()\n",
    "\n",
    "# Show plot\n",
    "plt.show()"
   ]
  },
  {
   "cell_type": "markdown",
   "id": "5f3f5588-e557-41f9-ab25-f48eaf82a11a",
   "metadata": {
    "tags": []
   },
   "source": [
    "#### Import and Export (Quantity): \n",
    "Between 2010 and 2023, Canada's grain imports remained stable under NAFTA and CUSMA, contrasting with the dairy industry's consistent rise in imports, marked by spikes in 2015 and a dip in 2017. Grain exports showcased a significant drop in 2021, followed by a recovery in 2022. Meanwhile, dairy exports fluctuated, with an uptick from 2016 to 2017, then a decline post-2017, albeit a slight rise after CUSMA. These trends reflect trade agreement dynamics. NAFTA likely bolstered grain trade, while dairy imports and exports fluctuated due to shifting tariff structures and market conditions. CUSMA's impact was evident in dairy exports, hinting at trade policy adjustments. Overall, stable grain imports suggest a robust market presence, while dairy's mixed performance underscores the industry's sensitivity to trade dynamics. NAFTA and CUSMA shaped trade patterns, highlighting the agricultural sector's resilience amidst evolving trade policies and market conditions."
   ]
  },
  {
   "cell_type": "code",
   "execution_count": 33,
   "id": "670b0df0-4a74-4abf-b1cb-9052e744c624",
   "metadata": {
    "tags": []
   },
   "outputs": [],
   "source": [
    "combined_df['Year'] = combined_df.index # Extracting year from the index\n",
    "\n",
    "# Fit a polynomial of degree 2\n",
    "coefficients = np.polyfit(combined_df['Year'], combined_df['Net Exports'], 8)\n",
    "# Create a polynomial function using the coefficients\n",
    "polynomial = np.poly1d(coefficients)\n",
    "\n",
    "# Generate x-values (years) from the minimum year to the maximum year\n",
    "x_values = np.linspace(combined_df['Year'].min(), combined_df['Year'].max(), num=100)\n",
    "# Calculate y-values using the polynomial function\n",
    "y_values = polynomial(x_values)"
   ]
  },
  {
   "cell_type": "code",
   "execution_count": 34,
   "id": "e1fd20a4-d56b-4364-beee-c572669c8f42",
   "metadata": {
    "tags": []
   },
   "outputs": [
    {
     "data": {
      "image/png": "[encoded data removed]",
      "text/plain": [
       "<Figure size 1000x600 with 1 Axes>"
      ]
     },
     "metadata": {},
     "output_type": "display_data"
    }
   ],
   "source": [
    "plt.figure(figsize=(10, 6))\n",
    "\n",
    "# Plot original scatter data\n",
    "plt.scatter(combined_df['Year'], combined_df['Net Exports'], color='blue', label='Net Exports Data')\n",
    "\n",
    "# Plot the best fit curve\n",
    "plt.plot(x_values, y_values, color='red', label='Nonlinear Best Fit (Degree 8)')\n",
    "\n",
    "plt.title('Net Exports Over Years with Nonlinear Best Fit')\n",
    "plt.xlabel('Year')\n",
    "plt.ylabel('Net Exports ($)')\n",
    "plt.legend()\n",
    "plt.grid(True)\n",
    "plt.show()"
   ]
  },
  {
   "cell_type": "markdown",
   "id": "36b6d8c8-8e3d-4ed3-a4a0-df38b3a45bf7",
   "metadata": {},
   "source": [
    "## Methodology\n",
    "To evaluate the effect of the revisions in the Tariff Rate Quotas (TRQ) from the NAFTA trade agreement to the CUSMA trade agreement on the production of dairy products in the dairy industry in Canada, an observational study is conducted using empirical data gathered from various online databases.\n",
    "\n",
    "A linear regression model is constructed with net exports (i.e. exports minus imports) as the dependent variable, and the rest of the variables as independent variables: (1) Canada population size (2) gross domestic product (3) foreign direct investments (4) foreign currency reserves (5) Percentage change in Pesos to CAD exchange rate (6) Percentage change in USD to CAD exchange rate (7) CPI inflation rate (8) Market capitalization (revenue) of dairy and grain industry.\n",
    "\n",
    "To isolate the effect of the TRQ revision, a difference-in-difference (DID) framework is adopted. A control group that can fulfill the parallel trend test hypothesis is required to utilize the DID framework. This study uses the wheat industry as a control group, as it is an industry with similar characteristics to the dairy industry, which does not have revised TRQs. A dummy variable of the (9) TRQ revision (POST), a dummy variable for the (10) treatment group (TREAT), and also an (11) interaction term (POST*TREAT), is included in the regression model as follows:\n",
    "\n",
    "\\begin{align*}\n",
    "NX_t = \\beta_0 + \\beta_1{POP_t} + \\beta_2{GDP_t} + \\beta_3{FDI_t} + \\beta_4{FCR_t} + \\beta_5{MXxrate_t} + \\beta_6{USxrate_t} + \\beta_7{CPI_t} + \\beta_8{mcap_t} + \\beta_9{POST_t} + \\beta_{10}{TREAT_i} + \\beta_{11}{POST*TREAT}_{i,t} + \\epsilon_{i,t}\n",
    "\\end{align*}\n",
    "\n",
    "NX: Net exports<br>\n",
    "POP: Canada population size<br>\n",
    "GDP: Gross domestic product<br>\n",
    "FDI: Foreign direct investments<br>\n",
    "FCR: Foreign currency reserves<br>\n",
    "MXxrate: Percentage change in Peso to CAD exchange rate<br>\n",
    "USxrate: Percentage change in USD to CAD exchange rate<br>\n",
    "CPI: Inflation rate<br>\n",
    "mcap: Market capitalization (revenue) of dairy and grain industry <br>\n",
    "POST: Dummy variable where, 1 represents data after the treatment (TRQ), and 0 represents before the treatment (TRQ)<br>\n",
    "TREAT: Dummy variable where, 1 represents the treatment group (dairy), and 0 represents the control group (grain)<br>\n",
    "POST*TREAT: Interaction term<br>\n",
    "\n",
    "To verify our above specifications are functioning properly, we will perform a Variance Inflation Factor (VIF) test to test for multicollinearity.\n",
    "\n",
    "#### Assumptions\n",
    "Accounting for COVID-19, we are assuming that COVID-19 impacted both industries similarly."
   ]
  },
  {
   "cell_type": "markdown",
   "id": "765db78e-3cec-440a-a964-e9ccbf133647",
   "metadata": {},
   "source": [
    "## Initial DID regression"
   ]
  },
  {
   "cell_type": "code",
   "execution_count": 35,
   "id": "de6bd3e0-167d-4bde-87c2-c0adcfde4b91",
   "metadata": {
    "tags": []
   },
   "outputs": [
    {
     "name": "stdout",
     "output_type": "stream",
     "text": [
      "                            OLS Regression Results                            \n",
      "==============================================================================\n",
      "Dep. Variable:            Net Exports   R-squared:                       0.981\n",
      "Model:                            OLS   Adj. R-squared:                  0.968\n",
      "Method:                 Least Squares   F-statistic:                     75.98\n",
      "Date:                Tue, 23 Apr 2024   Prob (F-statistic):           1.17e-11\n",
      "Time:                        06:30:14   Log-Likelihood:                -299.74\n",
      "No. Observations:                  28   AIC:                             623.5\n",
      "Df Residuals:                      16   BIC:                             639.5\n",
      "Df Model:                          11                                         \n",
      "Covariance Type:            nonrobust                                         \n",
      "=======================================================================================================\n",
      "                                          coef    std err          t      P>|t|      [0.025      0.975]\n",
      "-------------------------------------------------------------------------------------------------------\n",
      "const                                2.521e+04   1.54e+04      1.633      0.122   -7514.463    5.79e+04\n",
      "Year                                 1551.8013   4355.945      0.356      0.726   -7682.389    1.08e+04\n",
      "CAN Population                          0.0047      0.003      1.383      0.186      -0.003       0.012\n",
      "CAN GDP                             -5.023e-08    5.5e-08     -0.913      0.375   -1.67e-07    6.64e-08\n",
      "FDI Balances                            0.2921      0.431      0.678      0.507      -0.621       1.205\n",
      "CAN Official International Reserves     0.2994      0.886      0.338      0.740      -1.579       2.178\n",
      "Percent Change CAD-MXN              -6900.5308   5747.669     -1.201      0.247   -1.91e+04    5283.983\n",
      "Percent Change CAD-USD              -1907.6208   5591.400     -0.341      0.737   -1.38e+04    9945.617\n",
      "Inflation (CPI)                     -1.072e+04   4396.902     -2.439      0.027      -2e+04   -1402.474\n",
      "Post                                -3369.5501   1.77e+04     -0.190      0.852   -4.09e+04    3.42e+04\n",
      "Treatment                           -1.067e+05   6.51e+04     -1.637      0.121   -2.45e+05    3.14e+04\n",
      "Market Value                            0.0005      0.002      0.299      0.769      -0.003       0.004\n",
      "Interaction Term                    -4.438e+04   1.65e+04     -2.697      0.016   -7.93e+04   -9501.757\n",
      "==============================================================================\n",
      "Omnibus:                        1.289   Durbin-Watson:                   2.337\n",
      "Prob(Omnibus):                  0.525   Jarque-Bera (JB):                1.105\n",
      "Skew:                           0.295   Prob(JB):                        0.576\n",
      "Kurtosis:                       2.226   Cond. No.                     3.13e+15\n",
      "==============================================================================\n",
      "\n",
      "Notes:\n",
      "[1] Standard Errors assume that the covariance matrix of the errors is correctly specified.\n",
      "[2] The condition number is large, 3.13e+15. This might indicate that there are\n",
      "strong multicollinearity or other numerical problems.\n"
     ]
    }
   ],
   "source": [
    "import statsmodels.api as sm\n",
    "from sklearn import linear_model\n",
    "from scipy import stats\n",
    "\n",
    "y = combined_df['Net Exports']\n",
    "X = combined_df.drop(['Net Exports'], axis=1).copy()\n",
    "X = sm.add_constant(X)\n",
    "\n",
    "# Fit the regression model\n",
    "init_lr = sm.OLS(y, X).fit()\n",
    "\n",
    "# Perform t-tests for each coefficient\n",
    "print(init_lr.summary())\n"
   ]
  },
  {
   "cell_type": "markdown",
   "id": "45b01054-0002-43a7-a81a-06af8f4c54c5",
   "metadata": {},
   "source": [
    "## Initial DID regression analysis discussion\n",
    "\n",
    "\n",
    "The 'Interaction Term' variable is statistically significant, with a coefficient of -44390, suggesting a promising result. However, many other variables are statistically insignificant, with a P-value of more than 0.05. We suspect that multicollinearity might be present. To check for multicollinearity, we conduct a Variance Inflation Factor (VIF) test."
   ]
  },
  {
   "cell_type": "markdown",
   "id": "6bddc6c5-0543-4256-acee-241a03a9e8ad",
   "metadata": {
    "tags": []
   },
   "source": [
    "## Variance Inflation Factor (VIF) Test"
   ]
  },
  {
   "cell_type": "code",
   "execution_count": 67,
   "id": "528fd449-08b3-4644-a19f-10ead5c92068",
   "metadata": {
    "tags": []
   },
   "outputs": [
    {
     "name": "stdout",
     "output_type": "stream",
     "text": [
      "                 VIF\n",
      "Feature             \n",
      "const       0.000000\n",
      "Pop        18.258876\n",
      "CAN GDP    34.517545\n",
      "FDI        10.875887\n",
      "Reserves   16.101819\n",
      "CAN-MXN     2.964145\n",
      "CAD-USD     1.294345\n",
      "Inflation   4.776825\n",
      "Post        8.570872\n",
      "Treat      37.393902\n",
      "Mark_Val   47.209622\n",
      "Interact    4.555370\n"
     ]
    },
    {
     "name": "stderr",
     "output_type": "stream",
     "text": [
      "/opt/conda/lib/python3.10/site-packages/statsmodels/regression/linear_model.py:1752: RuntimeWarning: divide by zero encountered in double_scalars\n",
      "  return 1 - self.ssr/self.centered_tss\n"
     ]
    }
   ],
   "source": [
    "from statsmodels.stats.outliers_influence import variance_inflation_factor as VIF\n",
    "\n",
    "# Create a dataframe to store VIF results\n",
    "vif = pd.DataFrame()\n",
    "vif['Feature'] = X.columns\n",
    "\n",
    "# Calculate VIF for each feature using list comprehension\n",
    "vif['VIF'] = [VIF(X.values, i) for i in range(len(X.columns))]\n",
    "\n",
    "# Renaming specific rows\n",
    "vif['Feature'] = vif['Feature'].replace({'FDI Balances': 'FDI', 'Percent Change CAD-USD':'CAD-USD', \n",
    "                                         'Inflation (CPI)':\"Inflation\"})\n",
    "\n",
    "vif['Feature'] = vif['Feature'].replace({'CAN Population': 'Pop','CAN Official International Reserves': 'Reserves',\n",
    "                                         'Percent Change CAD-MXN': 'CAN-MXN', 'Treatment': 'Treat',\n",
    "                                        'Market Value': 'Mark_Val', 'Interaction Term': 'Interact'})\n",
    "vif = vif.set_index('Feature')\n",
    "\n",
    "#dropping the year to stop the skew in the data to see vif results visually \n",
    "vif = vif.drop(vif.index[1])\n",
    "print(vif)"
   ]
  },
  {
   "cell_type": "markdown",
   "id": "89e62288-41b4-47fd-a4da-03e47b6e2478",
   "metadata": {},
   "source": [
    "## VIF Visualization"
   ]
  },
  {
   "cell_type": "code",
   "execution_count": 69,
   "id": "7b0b47dd-59e1-4523-b134-85ff311ffa4f",
   "metadata": {
    "tags": []
   },
   "outputs": [
    {
     "data": {
      "image/png": "[encoded data removed]",
      "text/plain": [
       "<Figure size 1200x600 with 1 Axes>"
      ]
     },
     "metadata": {},
     "output_type": "display_data"
    }
   ],
   "source": [
    "#plotting the VIF diagram \n",
    "plt.figure(figsize=(12, 6))\n",
    "\n",
    "#creating a bar graph \n",
    "plt.bar(vif.index, vif['VIF'], color='blue')\n",
    "plt.xlabel('Variables')\n",
    "plt.ylabel('Variance Inflation Factor')\n",
    "plt.title('VIF for each variable in the model')\n",
    "plt.axhline(5, color='red', linestyle='dashed', linewidth=2)  # Common threshold of VIF\n",
    "plt.tight_layout()\n",
    "plt.show()"
   ]
  },
  {
   "cell_type": "markdown",
   "id": "848057bd-c1e9-40d8-8c14-bd971db4b343",
   "metadata": {
    "tags": []
   },
   "source": [
    "We can see that the VIF values for `Year`, `CAN Population`, `CAN GDP`, `FDI Balances`, `CAN Official International Reserves`, `Market Value` are above 10, therefore we will remove them."
   ]
  },
  {
   "cell_type": "markdown",
   "id": "72f2600d-5a74-47dc-b171-6d9a74d468f2",
   "metadata": {
    "tags": []
   },
   "source": [
    "## Second Round of Data Cleaning and Processing\n",
    "\n",
    "After performing the VIF test, we see that many of the variables have a high VIF value, confirming the presence of multicollinearity. To eliminate the presence of multicollinearity, we run a few test dropping variables with high VIF values. After some trial-and-error, the new model is as such:\n",
    "\n",
    "\\begin{align*}\n",
    "NX_t = \\beta_0 + \\beta_1{POP_t} + \\beta_2{CPI_t} + \\beta_3{POST_t} + \\beta_4{TREAT_i} + \\beta_5{POST*TREAT}_{i,t} + \\epsilon_{i,t}\n",
    "\\end{align*}"
   ]
  },
  {
   "cell_type": "code",
   "execution_count": 36,
   "id": "92f50370-ee54-4f97-85b4-df835329aa5f",
   "metadata": {
    "tags": []
   },
   "outputs": [
    {
     "name": "stdout",
     "output_type": "stream",
     "text": [
      "                            OLS Regression Results                            \n",
      "==============================================================================\n",
      "Dep. Variable:            Net Exports   R-squared:                       0.979\n",
      "Model:                            OLS   Adj. R-squared:                  0.974\n",
      "Method:                 Least Squares   F-statistic:                     203.2\n",
      "Date:                Tue, 23 Apr 2024   Prob (F-statistic):           1.21e-17\n",
      "Time:                        06:34:22   Log-Likelihood:                -301.43\n",
      "No. Observations:                  28   AIC:                             614.9\n",
      "Df Residuals:                      22   BIC:                             622.9\n",
      "Df Model:                           5                                         \n",
      "Covariance Type:            nonrobust                                         \n",
      "====================================================================================\n",
      "                       coef    std err          t      P>|t|      [0.025      0.975]\n",
      "------------------------------------------------------------------------------------\n",
      "const            -2.971e+05   9.41e+04     -3.157      0.005   -4.92e+05   -1.02e+05\n",
      "CAN Population       0.0126      0.003      4.699      0.000       0.007       0.018\n",
      "Inflation (CPI)   -1.11e+04   2840.798     -3.906      0.001    -1.7e+04   -5206.014\n",
      "Post              -494.4774    1.1e+04     -0.045      0.964   -2.33e+04    2.23e+04\n",
      "Treatment        -1.381e+05   5780.424    -23.885      0.000    -1.5e+05   -1.26e+05\n",
      "Interaction Term -4.776e+04   1.08e+04     -4.417      0.000   -7.02e+04   -2.53e+04\n",
      "==============================================================================\n",
      "Omnibus:                        0.999   Durbin-Watson:                   2.438\n",
      "Prob(Omnibus):                  0.607   Jarque-Bera (JB):                0.920\n",
      "Skew:                           0.399   Prob(JB):                        0.631\n",
      "Kurtosis:                       2.610   Cond. No.                     1.41e+09\n",
      "==============================================================================\n",
      "\n",
      "Notes:\n",
      "[1] Standard Errors assume that the covariance matrix of the errors is correctly specified.\n",
      "[2] The condition number is large, 1.41e+09. This might indicate that there are\n",
      "strong multicollinearity or other numerical problems.\n"
     ]
    }
   ],
   "source": [
    "y2 = combined_df['Net Exports']\n",
    "X2 = combined_df.drop(['Net Exports', 'Year', 'CAN GDP', 'FDI Balances', 'CAN Official International Reserves', 'Market Value', 'Percent Change CAD-MXN', 'Percent Change CAD-USD'], axis=1).copy()\n",
    "# 'CAN Population', \n",
    "X2 = sm.add_constant(X2)\n",
    "# Fit the regression model\n",
    "lr_2 = sm.OLS(y2, X2).fit()\n",
    "\n",
    "# Perform t-tests for each coefficient\n",
    "print(lr_2.summary())"
   ]
  },
  {
   "cell_type": "markdown",
   "id": "8139393d-4d60-41cb-8359-6f233465f34e",
   "metadata": {
    "tags": []
   },
   "source": [
    "## Discussion of results"
   ]
  },
  {
   "cell_type": "markdown",
   "id": "689b21cd-9ce8-43e6-b136-d2a61fe16637",
   "metadata": {},
   "source": [
    "We can see that after dropping these variables, only `CAN Population` and `Inflation (CPI)` is statistically significant. This suggests that inflation and the population have the greatest impact on the net exports of the dairy industry. We see that the TRQ (interaction term) has a negative relationship with net exports, with an estimated of -47760($) on net exports, which is inconsistent with our initial hypothesis. We suspect that there might be the presence of omitted variable bias (OVB) which has underestimated the impact.\n",
    "\n",
    "There might be more variables that might have an impact on the net exports of the dairy industry, however due to the constraints of these study, such as the availability of data, these significant variables could not be studied."
   ]
  },
  {
   "cell_type": "markdown",
   "id": "b0314fef-694f-473c-b7f3-15b3ab5313d3",
   "metadata": {
    "tags": []
   },
   "source": [
    "### Bibliography\n",
    "Statistics Canada. [Table 32-10-0109-01 Supply and disposition of milk products in Canada]https://www150.statcan.gc.ca/t1/tbl1/en/tv.action?pid=3210010901\n",
    "Statistics Canada. [Table 32-10-0013-01 Supply and disposition of grains in Canada (x 1,000)]https://www150.statcan.gc.ca/t1/tbl1/en/tv.action?pid=3210001301\n",
    "Senate of Canada. \"Agri-Food Economic Systems Brief.\" Senate of Canada, 2017, https://sencanada.ca/content/sen/committee/421/AGFO/Briefs/Agri-FoodEconomicSystems_Brief_e.pdf.\n",
    "Global Affairs Canada. \"Canada-United States-Mexico Agreement (CUSMA): Text of the Agreement.\" Global Affairs Canada, Government of Canada, 2020, https://www.international.gc.ca/trade-commerce/trade-agreements-accords-commerciaux/agr-acc/cusma-aceum/text-texte/03.aspx?lang=eng.\n",
    "Lobosco, Katie, and Donna Borak. \"What's in the USMCA Deal That Replaces NAFTA.\" CNN, Cable News Network, 10 Dec. 2019, www.cnn.com/2019/12/10/politics/nafta-us-mexico-canada-trade-deal-differences/index.html.\n",
    "\"GDP (Current US$) - Canada.\" World Bank, World Bank Group, 2022, data.worldbank.org/indicator/NY.GDP.MKTP.CD?end=2022&locations=CA&start=2017. Accessed 22 Apr. 2024.\n",
    "\"First State-to-State Dispute Under CUSMA on Dairy Quotas: Good News for Distributors and Consumers.\" Bennett Jones, Bennett Jones LLP, 12 Jan. 2022, https://bennettjones.com/Blogs-Section/First-State-to-State-Dispute-Under-CUSMA-on-Dairy-Quotas-Good-News-for-Distributors-and-Consumers.\n",
    "Desjardins, Geoffrey Gertz, and Jeffrey J. Schott. \"USMCA at 3: Reflecting on Impact and Charting the Future.\" Brookings, Brookings Institution, 19 July. 2023, https://www.brookings.edu/articles/usmca-at-3-reflecting-on-impact-and-charting-the-future/.\n",
    "Smith, John. \"Which Factors Can Influence a Country's Balance of Trade?\" Investopedia, Dotdash Meredith, 15 Apr. 2015, www.investopedia.com/ask/answers/041615/which-factors-can-influence-countrys-balance-trade.asp.\n",
    "\"Trade Balance.\" Canadian Dairy Information Centre, Agriculture and Agri-Food Canada, no publication date given, https://agriculture.canada.ca/en/sector/animal-industry/canadian-dairy-information-centre/statistics-market-information/trade-balance.\n",
    "\"Inflation.\" Bank of Canada, Bank of Canada, no publication date given, www.bankofcanada.ca/rates/indicators/capacity-and-inflation-pressures/inflation/.\n",
    "\"Historical Data for CAD/USD Exchange Rates.\" Yahoo Finance, Yahoo, accessed 22 Apr. 2024, www.finance.yahoo.com/quote/CADUSD%3DX/history?period1=1063670400&period2=1712707200&interval=1mo&filter=history&frequency=1mo&includeAdjustedClose=true.\n",
    "\"Historical Data for CAD/MXN Exchange Rates.\" Yahoo Finance, Yahoo, accessed 22 Apr. 2024, https://ca.finance.yahoo.com/quote/CADMXN%3DX/history.\n",
    "\"Table 10-10-0127-01 Employment and Unemployment Rates by Economic Region, Annual (Percentage).\" Statistics Canada, Statistics Canada, accessed 22 Apr. 2024, https://www150.statcan.gc.ca/t1/tbl1/en/tv.action?pid=1010012701&cubeTimeFrame.startMonth=10&cubeTimeFrame.startYear=2010&cubeTimeFrame.endMonth=12&cubeTimeFrame.endYear=2023&referencePeriods=20101001%2C20231201.\n",
    "\"Table 36-10-0140-01 Canadian International Merchandise Trade by Importer Characteristics, Annual.\" Statistics Canada, Statistics Canada, accessed 22 Apr. 2024, https://www150.statcan.gc.ca/t1/tbl1/en/tv.action?pid=3610001401&pickMembers%5B0%5D=4.1&cubeTimeFrame.startYear=2010&cubeTimeFrame.endYear=2023&referencePeriods=20100101%2C20230101.\n",
    "\"Components of Summary Education Indicators for Canada, Provinces and Territories, 2006 to 2014.\" Statistics Canada, Statistics Canada, 2014, www150.statcan.gc.ca/n1/pub/91-215-x/2014000/t002-eng.htm. Accessed 22 Apr. 2024.\n",
    "Government of Canada, Statistics Canada. “Annual Demographic Estimates: Canada, Provinces and Territories, 2018 (Total Population Only) Table 1.1-1 Annual Population Estimates, July 1, Canada, Provinces and Territories - Population.” Table 1.1-1 Annual Population Estimates, July 1, Canada, Provinces and Territories - Population, 27 Sept. 2018, www150.statcan.gc.ca/n1/pub/91-215-x/2018001/tbl/tbl1.1-1-eng.htm. \n",
    "Government of Canada, Statistics Canada. “Annual Demographic Estimates: Canada, Provinces and Territories, 2022 Table 1.1-1 Annual Population Estimates, July 1, Canada, Provinces and Territories - Population.” Table 1.1-1 Annual Population Estimates, July 1, Canada, Provinces and Territories - Population, 28 Sept. 2022, www150.statcan.gc.ca/n1/pub/91-215-x/2022001/tbl/tbl1.1-1-eng.htm. \n",
    "“Population Estimates, Quarterly.” Population Estimates, Quarterly, Government of Canada, Statistics Canada, 27 Mar. 2024, www150.statcan.gc.ca/t1/tbl1/en/tv.action?pid=1710000901. \n",
    "\n"
   ]
  }
 ],
 "metadata": {
  "kernelspec": {
   "display_name": "Python 3 (ipykernel)",
   "language": "python",
   "name": "python3"
  },
  "language_info": {
   "codemirror_mode": {
    "name": "ipython",
    "version": 3
   },
   "file_extension": ".py",
   "mimetype": "text/x-python",
   "name": "python",
   "nbconvert_exporter": "python",
   "pygments_lexer": "ipython3",
   "version": "3.10.8"
  }
 },
 "nbformat": 4,
 "nbformat_minor": 5
}
