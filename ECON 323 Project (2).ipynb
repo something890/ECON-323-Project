{
 "cells": [
  {
   "cell_type": "markdown",
   "id": "1d8516d5-9a2b-4e31-9b2c-e770ec104fe5",
   "metadata": {},
   "source": [
    "# ECON 323 Final Project\n",
    "\n",
    "### Ho Cheng An | Aya Darwash | Bhavya Dubey | Arya Leong"
   ]
  },
  {
   "cell_type": "markdown",
   "id": "5c4eb56b-fa75-42ba-af57-3fcbb925aa67",
   "metadata": {},
   "source": [
    "### Introduction:\n",
    "\n",
    "Free trade agreements are meant to foster greater exchange of goods and services between nations with little to no government tariffs, quotas, subsidies or prohibitions. This is meant to foster greater economic prosperity for both countries however, in the case of the renegotiation of NAFTA to CUSMA, it ended up causing more harm to certain Canadian industries than good. The question that guides our research is to what extent did the changes in policy from NAFTA to CUSMA impact the dairy industry? Our aim is to look at the negative and positive impacts on this industry using difference-in-difference analysis of the dairy and grain industry, 10 years under NAFTA and 4 years under CUSMA.\n",
    "\n",
    "### Background:\n",
    "North American Free Trade Agreement (NAFTA) was first drafted and signed in 1994 by Canada, Mexico and the US in an effort to create a North American free trade zone. It resulted in the elimination and reduction of barriers to trade and investment between the three nations, having an overall positive effect on the Northern American economies. After Trump look office in 2017, he sought to replace NAFTA with a new agreement which was named the Canada-United States-Mexico Agreement (CUSMA) which gained greater concessions in Canada markets, particularly that of dairy and poultry products, raising the threshold for tax and duty-free entry into Canada and Mexico of low-value goods imports, and easing other barriers to service trades, and most importantly created more stringent rules of origin for products to qualify for duty-free market access which adversely impacted the automotive sector (Xiao, 2020). Overall CUSMA compared to NAFTA resulted in lower real GDP and welfare for all three parties, with Canada’s GDP shrinking to by 0.4% and economic welfare falling over US$10 billion (Xiao, 2020). \n",
    "\n",
    "The dairy market is one of those industries that Canada sought to protect. Imports of dairy are controlled via tariff-rate-quotas (TRQ’s) and over-quota ad valorem (percentage) tariffs, at levels that are prohibitive to imports in excess of TRQ. They also used to have subsidized exports of dairy which was abolished in 2021 through the Nairobi Declaration. The significant changes made to the dairy industry from NAFTA to CUSMA are as follows: \n",
    "\n",
    "- Elimination of milk Class 6, and Class 7 within 6 months of the agreement.\n",
    "- Export constraints on skim milk powder and milk protein concentrates, and infant formula.\n",
    "- Phase-out of supply management through elimination of supply control/quotas in dairy, poultry and eggs within 10 years.\n",
    "- Increased dairy market access of 5% per year, leading to open access for the US within 10 years.\n",
    "\n",
    "\n",
    "Canada’s milk prices at the farm are higher than those in the US, making it difficult to be price-competitive with US products in the US market.  In a paper by Biden, Ker, and Duff (2020) they found that there was a 1.4% decrease in the marginal retail price, a 4.8% decrease in blended producer price, and an overall increase in social welfare of 7.8%. The elimination of Class 7 within the CUSMA resulted in a price increase for Canadian producers with respect to the product in Class 7. Ciuriak, Dadkhah, and Xiao (2023) measure the sectoral impacts by reporting on the net bilateral exports and imports within the first year of CUSMA, indicating dairy market displacement and unequal imports and exports. Our paper will focus on the effect of the increased dairy market access through expanding tariff-rate quotas in Canada."
   ]
  },
  {
   "cell_type": "markdown",
   "id": "0fbcb22f-1051-4ad3-b8d8-c185647ad525",
   "metadata": {},
   "source": [
    "### Data Description, Dataset, and Variables \n",
    "\n",
    "- Trade Balance: Measured by net imports and exports of all dairy products over the period. This data is sourced from Agriculture Canada and serves as our primary dependent variable to measure the impact of increased market access.\n",
    "- Inflation: Measured by CPI-common that tracks common price changes across categories in the CPI basket. This data is sourced from the Bank of Canada and is a control variable in our analysis.\n",
    "- Exchange Rates: Measured by adjusted close and percentage change. This data is sourced from the daily updated Yahoo finance and is to be a control variable in our analysis.\n",
    "- Foreign Currency Reserves: Measured by the total of Canada’s official international reserves on a monthly frequency between 2010 to 2023. The data is sourced from Statistics Canada and will be a control variable in our analysis.\n",
    "- Foreign Direct Investment: Measured by the balance of international payments in the total current account. The data is sourced from Statistics Canada and will be a control variable in our analysis.\n",
    "- Market Cap/Quotas: Measured by the industry revenue of Dairy product manufacturing and industry revenue of Grain product manufacturing. The first variable was sourced from Statista, and the second variable was constructed with the use of total grain yield and average prices from Statistics Canada and Trading Economics.\n",
    "- Population: Measured by total annual population numbers between 2010 to 2023. Sourced from Statistics Canada and will be a control variable in our analysis.\n"
   ]
  },
  {
   "cell_type": "markdown",
   "id": "0be2c737-fd56-4ee1-bc55-fff61f2a9d6f",
   "metadata": {},
   "source": [
    "### Trends in the Data \n",
    "\n",
    "- **Exchange Rate:** Exchange rates are pivotal in global trade, impacting export competitiveness and import costs. The CAD to USD rate fluctuated over the years: it rose from 2010 to 2012, dipped in 2013-2014, and plummeted in 2015. Modest rises occurred in 2016 and 2019, while declines marked 2017, 2018, 2021, and 2022. Slight fluctuations persisted in 2020 and 2023. Similarly, the CAD to MXN rate showed volatility: it surged in 2011 but declined in 2012-2013. Minor changes occurred in 2014 and 2016, with a slight dip in 2015. 2017 saw a moderate decline, whereas significant drops marked 2018 and 2022. A slight decrease was noted in 2019, with modest rises in 2020-2021 followed by substantial declines in 2023. Stable exchange rates are vital for seamless trade, especially under agreements like CUSMA, ensuring mutually beneficial trade relations.\n",
    "- **Import and Export (Quantity):** Between 2010 and 2023, Canada's grain imports remained stable under NAFTA and CUSMA, contrasting with the dairy industry's consistent rise in imports, marked by spikes in 2015 and a dip in 2017. Grain exports showcased a significant drop in 2021, followed by a recovery in 2022. Meanwhile, dairy exports fluctuated, with an uptick from 2016 to 2017, then a decline post-2017, albeit a slight rise after CUSMA. These trends reflect trade agreement dynamics. NAFTA likely bolstered grain trade, while dairy imports and exports fluctuated due to shifting tariff structures and market conditions. CUSMA's impact was evident in dairy exports, hinting at trade policy adjustments. Overall, stable grain imports suggest a robust market presence, while dairy's mixed performance underscores the industry's sensitivity to trade dynamics. NAFTA and CUSMA shaped trade patterns, highlighting the agricultural sector's resilience amidst evolving trade policies and market conditions.\n",
    "\n"
   ]
  },
  {
   "cell_type": "markdown",
   "id": "e90763a5-2f48-42cb-aad8-d2ef1e9d9201",
   "metadata": {},
   "source": [
    "### Methodology \n",
    "\n",
    "To evaluate the effect of the revisions in the Tariff Rate Quotas (TRQ) from the NAFTA trade agreement to the CUSMA trade agreement on the production of dairy products in the dairy industry in Canada, an observational study is conducted using empirical data gathered from various online databases.\n",
    "\n",
    "A linear regression model is constructed with net exports (i.e. exports minus imports) as the dependent variable, and a few variables as the independent variable: (1) exchange rates between USD and CAD (2) Inflation data (3) foreign currency reserves (4) total factor productivity (5) market capitalization (6) GDP (7) population size.\n",
    "\n",
    "[base model, to use LaTex]\n",
    "\n",
    "To isolate the effect of the TRQ revision, a difference-in-difference (DID) framework is adopted. A control group that can fulfill the parallel trend test hypothesis is required to utilize the DID framework. This study uses the wheat industry as a control group, as it is an industry with similar characteristics to the dairy industry, which does not have revised TRQs. A dummy variable of the TRQ revision, and also a dummy variable for the treatment group, is included in the regression model as follows:\n",
    "\n",
    "[base model + DID dummy variables]\n",
    "\n",
    "Another issue that we have to account for would be the COVID-19 pandemic that happened in 2019, which caused a global recession. Taking this into consideration, a dummy variable for the COVID-19 year is included in the regression model:\n",
    "\n",
    "[base model + DID dummy variables + COVID dummy variable]\n",
    "\n",
    "\n",
    "To verify our above specifications are functioning properly, we will perform a Variance Inflation Factor (VIF) test to test for multicollinearity. \n",
    "\n",
    "#### Assumptions \n",
    "Accounting for COVID-19- we are assuming that COVID-19 impacted both industries similarly. \n"
   ]
  },
  {
   "cell_type": "markdown",
   "id": "b037eba1-8658-4cd7-b387-0c4fd910f666",
   "metadata": {},
   "source": [
    "#### Datasets Used:\n",
    "\n",
    "Statistics Canada. [Table 32-10-0109-01  Supply and disposition of milk products in Canada]<https://www150.statcan.gc.ca/t1/tbl1/en/tv.action?pid=3210010901>\\\n",
    "Statistics Canada. [Table 32-10-0013-01  Supply and disposition of grains in Canada (x 1,000)]<https://www150.statcan.gc.ca/t1/tbl1/en/tv.action?pid=3210001301>"
   ]
  },
  {
   "cell_type": "code",
   "execution_count": null,
   "id": "cd06bccf-94a6-4cde-8af7-aae4551b9ca6",
   "metadata": {},
   "outputs": [],
   "source": []
  }
 ],
 "metadata": {
  "kernelspec": {
   "display_name": "Python 3 (ipykernel)",
   "language": "python",
   "name": "python3"
  },
  "language_info": {
   "codemirror_mode": {
    "name": "ipython",
    "version": 3
   },
   "file_extension": ".py",
   "mimetype": "text/x-python",
   "name": "python",
   "nbconvert_exporter": "python",
   "pygments_lexer": "ipython3",
   "version": "3.12.1"
  }
 },
 "nbformat": 4,
 "nbformat_minor": 5
}
