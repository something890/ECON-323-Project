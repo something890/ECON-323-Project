{
 "cells": [
  {
   "cell_type": "markdown",
   "id": "1d8516d5-9a2b-4e31-9b2c-e770ec104fe5",
   "metadata": {},
   "source": [
    "# ECON 323 Final Project\n",
    "\n",
    "### Ho Cheng An | Aya Darwash | Bhavya Dubey | Arya Leong"
   ]
  },
  {
   "cell_type": "markdown",
   "id": "5c4eb56b-fa75-42ba-af57-3fcbb925aa67",
   "metadata": {},
   "source": [
    "Free trade agreements are meant to foster greater exchange of goods and services between nations with little to no government tariffs, quotas, subsidies or prohibitions. This is meant to foster greater economic prosperity for both countries however, in the case of the renegotiation of NAFTA to CUSMA, it ended up causing more harm to certain Canadian industries than good. The question that guides our research is to what extent did the changes in policy from NAFTA to CUSMA impact the dairy industry? Our aim is to look at the negative and positive impacts on this industry using difference-in-difference analysis of the dairy and grain industry, 10 years under NAFTA and 4 years under CUSMA.\r\n",
    "\r\n",
    "North American Free Trade Agreement (NAFTA) was first drafted and signed in 1994 by Canada, Mexico and the US in an effort to create a North American free trade zone. It resulted in the elimination and reduction of barriers to trade and investment between the three nations, having an overall positive effect on the Northern American economies. After Trump look office in 2017, he sought to replace NAFTA with a new agreement which was named the Canada-United States-Mexico Agreement (CUSMA) which gained greater concessions in Canada markets, particularly that of dairy and poultry products, raising the threshold for tax and duty-free entry into Canada and Mexico of low-value goods imports, and easing other barriers to service trades, and most importantly created more stringent rules of origin for products to qualify for duty-free market access which adversely impacted the automotive sector (Xiao, 2020). Overall CUSMA compared to NAFTA resulted in lower real GDP and welfare for all three parties, with Canada’s GDP shrinking to by 0.4% and economic welfare falling over US$10 billion (Xiao, 2020). \r\n",
    "\r\n",
    "The dairy market is one of those industries that Canada sought to protect. Imports of dairy are controlled via tariff-rate-quotas (TRQ’s) and over-quota ad valorem (percentage) tariffs, at levels that are prohibitive to imports in excess of TRQ. They also used to have subsidized exports of dairy which was abolished in 2021 through the Nairobi Declaration. The significant changes made to the dairy industry from NAFTA to CUSMA are as follows: \r\n",
    "\r\n",
    "Elimination of milk Class 6, and Class 7 within 6 months of the agreement. \r\n",
    "Export constraints on skim milk powder and milk protein concentrates, and infant formula. \r\n",
    "Phase-out of supply management through elimination of supply control/quotas in dairy, poultry and eggs within 10 years.\r\n",
    "Increased dairy market access of 5% per year, leading to open access for the US within 10 years. \r\n",
    "\r\n",
    "Given that Canada’s milk prices at the farm are higher than those in the US it makes them difficult to be price-competitive with US product in thhodology (leon)\r\n"
   ]
  },
  {
   "cell_type": "markdown",
   "id": "b037eba1-8658-4cd7-b387-0c4fd910f666",
   "metadata": {},
   "source": [
    "#### Datasets Used:\n",
    "\n",
    "Statistics Canada. [Table 32-10-0109-01  Supply and disposition of milk products in Canada]<https://www150.statcan.gc.ca/t1/tbl1/en/tv.action?pid=3210010901>\\\n",
    "Statistics Canada. [Table 32-10-0013-01  Supply and disposition of grains in Canada (x 1,000)]<https://www150.statcan.gc.ca/t1/tbl1/en/tv.action?pid=3210001301>"
   ]
  },
  {
   "cell_type": "code",
   "execution_count": null,
   "id": "cd06bccf-94a6-4cde-8af7-aae4551b9ca6",
   "metadata": {},
   "outputs": [],
   "source": []
  }
 ],
 "metadata": {
  "kernelspec": {
   "display_name": "Python 3 (ipykernel)",
   "language": "python",
   "name": "python3"
  },
  "language_info": {
   "codemirror_mode": {
    "name": "ipython",
    "version": 3
   },
   "file_extension": ".py",
   "mimetype": "text/x-python",
   "name": "python",
   "nbconvert_exporter": "python",
   "pygments_lexer": "ipython3",
   "version": "3.12.1"
  }
 },
 "nbformat": 4,
 "nbformat_minor": 5
}
